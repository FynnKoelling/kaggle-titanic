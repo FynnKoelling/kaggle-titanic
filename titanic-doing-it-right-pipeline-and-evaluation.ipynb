{
 "cells": [
  {
   "cell_type": "markdown",
   "metadata": {
    "papermill": {
     "duration": 0.036412,
     "end_time": "2021-05-01T12:37:46.289181",
     "exception": false,
     "start_time": "2021-05-01T12:37:46.252769",
     "status": "completed"
    },
    "tags": []
   },
   "source": [
    "# Titanic - Doing it right! Pipeline and Evaluation\n",
    "### Introduction\n",
    "Hi! Welcome to this notebook. I will walk you through several stages regarding the Titanic machine learning competition provided by kaggle. The focus lies on two important concepts many people get wrong:\n",
    "* Correct training in connection to **Data Leakage**\n",
    "* Correct evaluation in connection to Train Set, Validation Set and Test Set\n",
    "\n",
    "For example headlines of other notebooks like \"Titanic - Achieve 80% / 90% Accuracy\" are simply wrong, but more on that in the training and evaluation part.\n",
    "\n",
    "Please note that I am not a professional or have detailed explanations for most of the techniques I try to describe! If you want to learn more I strongly recommend the book **\"Data Science for Business\"** by Foster Provost and Tom Fawcett.\n",
    "\n",
    "### Workflow\n",
    "1. Libraries\n",
    "2. Acquire Data\n",
    "3. Analysis\n",
    "4. Preprocessing\n",
    "    * Feature Engineering\n",
    "    * Pipeline\n",
    "5. Training\n",
    "6. Evaluation\n",
    "7. Prediction"
   ]
  },
  {
   "cell_type": "markdown",
   "metadata": {
    "papermill": {
     "duration": 0.03333,
     "end_time": "2021-05-01T12:37:46.356502",
     "exception": false,
     "start_time": "2021-05-01T12:37:46.323172",
     "status": "completed"
    },
    "tags": []
   },
   "source": [
    "# Libraries\n",
    "Besides the standard libraries like numpy or pandas we use multiple libraries to build our pipeline and acquire our model."
   ]
  },
  {
   "cell_type": "code",
   "execution_count": 1,
   "metadata": {
    "_cell_guid": "b1076dfc-b9ad-4769-8c92-a6c4dae69d19",
    "_uuid": "8f2839f25d086af736a60e9eeb907d3b93b6e0e5",
    "execution": {
     "iopub.execute_input": "2021-05-01T12:37:46.426542Z",
     "iopub.status.busy": "2021-05-01T12:37:46.425498Z",
     "iopub.status.idle": "2021-05-01T12:37:47.837560Z",
     "shell.execute_reply": "2021-05-01T12:37:47.835860Z"
    },
    "papermill": {
     "duration": 1.448301,
     "end_time": "2021-05-01T12:37:47.837720",
     "exception": false,
     "start_time": "2021-05-01T12:37:46.389419",
     "status": "completed"
    },
    "tags": []
   },
   "outputs": [
    {
     "name": "stdout",
     "output_type": "stream",
     "text": [
      "/kaggle/input/titanic/train.csv\n",
      "/kaggle/input/titanic/test.csv\n",
      "/kaggle/input/titanic/gender_submission.csv\n"
     ]
    }
   ],
   "source": [
    "#Path\n",
    "import os\n",
    "for dirname, _, filenames in os.walk('/kaggle/input'):\n",
    "    for filename in filenames:\n",
    "        print(os.path.join(dirname, filename))\n",
    "\n",
    "#Standard\n",
    "import numpy as np # linear algebra\n",
    "import pandas as pd # data processing\n",
    "import matplotlib.pyplot as plt # data visualization\n",
    "\n",
    "#Preprocessing\n",
    "from sklearn.impute import KNNImputer # nearest neighbor imputer\n",
    "from sklearn.preprocessing import StandardScaler # scaler\n",
    "\n",
    "#Pipeline\n",
    "from sklearn.pipeline import Pipeline # pipeline\n",
    "from sklearn.base import BaseEstimator, TransformerMixin # custom pipeline methods\n",
    "from sklearn.compose import ColumnTransformer # pipeline unit\n",
    "\n",
    "#Training\n",
    "from sklearn.model_selection import train_test_split # train test split\n",
    "from sklearn.ensemble import RandomForestClassifier # random forest model\n",
    "from sklearn.ensemble import GradientBoostingClassifier # gradient boosting model\n",
    "from sklearn.model_selection import GridSearchCV # grid search technique\n",
    "\n",
    "#Evaluation\n",
    "from sklearn.metrics import accuracy_score # evaluation method"
   ]
  },
  {
   "cell_type": "markdown",
   "metadata": {
    "papermill": {
     "duration": 0.035786,
     "end_time": "2021-05-01T12:37:47.909446",
     "exception": false,
     "start_time": "2021-05-01T12:37:47.873660",
     "status": "completed"
    },
    "tags": []
   },
   "source": [
    "# Acquire Data & General Information\n",
    "We acquire the labelled Train Data (train_data in code) and unlabeled Test Data which we call the Score Set ('score_set' in code) to avoid confusions later on. We then look at the columns and data types, the first few lines of each set, and the general distribution of each column. It provides us with a general overview and a first insight into the data.\n",
    "One important aspect is that both the Train Data and Score Set have the same columns and that a column has the same type in both sets."
   ]
  },
  {
   "cell_type": "code",
   "execution_count": 2,
   "metadata": {
    "execution": {
     "iopub.execute_input": "2021-05-01T12:37:47.987415Z",
     "iopub.status.busy": "2021-05-01T12:37:47.986658Z",
     "iopub.status.idle": "2021-05-01T12:37:48.015489Z",
     "shell.execute_reply": "2021-05-01T12:37:48.014873Z"
    },
    "papermill": {
     "duration": 0.072459,
     "end_time": "2021-05-01T12:37:48.015618",
     "exception": false,
     "start_time": "2021-05-01T12:37:47.943159",
     "status": "completed"
    },
    "tags": []
   },
   "outputs": [],
   "source": [
    "train_data = pd.read_csv(\"/kaggle/input/titanic/train.csv\") # Train Data\n",
    "score_set = pd.read_csv(\"/kaggle/input/titanic/test.csv\") # Score Set"
   ]
  },
  {
   "cell_type": "markdown",
   "metadata": {
    "papermill": {
     "duration": 0.033013,
     "end_time": "2021-05-01T12:37:48.082611",
     "exception": false,
     "start_time": "2021-05-01T12:37:48.049598",
     "status": "completed"
    },
    "tags": []
   },
   "source": [
    "One of the most important information sources is the description of the features provided by the challenge itself.\n",
    "\n",
    "| Variable        | Definition           | Key  |\n",
    "| ------------- |:-------------:| -----:|\n",
    "| survival      | Survival      | 0 = No, 1 = Yes |\n",
    "| pclass        | Ticket class  | 1 = 1st, 2 = 2nd, 3 = rd |\n",
    "| sex           | Sex           |  |\n",
    "| Age          | Age in years           |  |\n",
    "| sibsp           | # of siblings / spouses aboard the Titanic         |  |\n",
    "| parch          | # of parents / children aboard the Titanic          |  |\n",
    "| ticket           | Ticket number           |  |\n",
    "| fare           | Passenger fare           |  |\n",
    "| cabin           | Cabin number           |  |\n",
    "| embarked           | Port of Embarkation           | C = Cherbourg, Q = Queenstown, S = Southampton |"
   ]
  },
  {
   "cell_type": "code",
   "execution_count": 3,
   "metadata": {
    "execution": {
     "iopub.execute_input": "2021-05-01T12:37:48.176300Z",
     "iopub.status.busy": "2021-05-01T12:37:48.175636Z",
     "iopub.status.idle": "2021-05-01T12:37:48.181678Z",
     "shell.execute_reply": "2021-05-01T12:37:48.181063Z"
    },
    "papermill": {
     "duration": 0.066008,
     "end_time": "2021-05-01T12:37:48.181793",
     "exception": false,
     "start_time": "2021-05-01T12:37:48.115785",
     "status": "completed"
    },
    "tags": []
   },
   "outputs": [
    {
     "name": "stdout",
     "output_type": "stream",
     "text": [
      "<class 'pandas.core.frame.DataFrame'>\n",
      "RangeIndex: 891 entries, 0 to 890\n",
      "Data columns (total 12 columns):\n",
      " #   Column       Non-Null Count  Dtype  \n",
      "---  ------       --------------  -----  \n",
      " 0   PassengerId  891 non-null    int64  \n",
      " 1   Survived     891 non-null    int64  \n",
      " 2   Pclass       891 non-null    int64  \n",
      " 3   Name         891 non-null    object \n",
      " 4   Sex          891 non-null    object \n",
      " 5   Age          714 non-null    float64\n",
      " 6   SibSp        891 non-null    int64  \n",
      " 7   Parch        891 non-null    int64  \n",
      " 8   Ticket       891 non-null    object \n",
      " 9   Fare         891 non-null    float64\n",
      " 10  Cabin        204 non-null    object \n",
      " 11  Embarked     889 non-null    object \n",
      "dtypes: float64(2), int64(5), object(5)\n",
      "memory usage: 83.7+ KB\n"
     ]
    }
   ],
   "source": [
    "train_data.info() # Feature Information"
   ]
  },
  {
   "cell_type": "code",
   "execution_count": 4,
   "metadata": {
    "execution": {
     "iopub.execute_input": "2021-05-01T12:37:48.252939Z",
     "iopub.status.busy": "2021-05-01T12:37:48.252241Z",
     "iopub.status.idle": "2021-05-01T12:37:48.278849Z",
     "shell.execute_reply": "2021-05-01T12:37:48.279362Z"
    },
    "papermill": {
     "duration": 0.06417,
     "end_time": "2021-05-01T12:37:48.279535",
     "exception": false,
     "start_time": "2021-05-01T12:37:48.215365",
     "status": "completed"
    },
    "tags": []
   },
   "outputs": [
    {
     "data": {
      "text/html": [
       "<div>\n",
       "<style scoped>\n",
       "    .dataframe tbody tr th:only-of-type {\n",
       "        vertical-align: middle;\n",
       "    }\n",
       "\n",
       "    .dataframe tbody tr th {\n",
       "        vertical-align: top;\n",
       "    }\n",
       "\n",
       "    .dataframe thead th {\n",
       "        text-align: right;\n",
       "    }\n",
       "</style>\n",
       "<table border=\"1\" class=\"dataframe\">\n",
       "  <thead>\n",
       "    <tr style=\"text-align: right;\">\n",
       "      <th></th>\n",
       "      <th>PassengerId</th>\n",
       "      <th>Survived</th>\n",
       "      <th>Pclass</th>\n",
       "      <th>Name</th>\n",
       "      <th>Sex</th>\n",
       "      <th>Age</th>\n",
       "      <th>SibSp</th>\n",
       "      <th>Parch</th>\n",
       "      <th>Ticket</th>\n",
       "      <th>Fare</th>\n",
       "      <th>Cabin</th>\n",
       "      <th>Embarked</th>\n",
       "    </tr>\n",
       "  </thead>\n",
       "  <tbody>\n",
       "    <tr>\n",
       "      <th>0</th>\n",
       "      <td>1</td>\n",
       "      <td>0</td>\n",
       "      <td>3</td>\n",
       "      <td>Braund, Mr. Owen Harris</td>\n",
       "      <td>male</td>\n",
       "      <td>22.0</td>\n",
       "      <td>1</td>\n",
       "      <td>0</td>\n",
       "      <td>A/5 21171</td>\n",
       "      <td>7.2500</td>\n",
       "      <td>NaN</td>\n",
       "      <td>S</td>\n",
       "    </tr>\n",
       "    <tr>\n",
       "      <th>1</th>\n",
       "      <td>2</td>\n",
       "      <td>1</td>\n",
       "      <td>1</td>\n",
       "      <td>Cumings, Mrs. John Bradley (Florence Briggs Th...</td>\n",
       "      <td>female</td>\n",
       "      <td>38.0</td>\n",
       "      <td>1</td>\n",
       "      <td>0</td>\n",
       "      <td>PC 17599</td>\n",
       "      <td>71.2833</td>\n",
       "      <td>C85</td>\n",
       "      <td>C</td>\n",
       "    </tr>\n",
       "    <tr>\n",
       "      <th>2</th>\n",
       "      <td>3</td>\n",
       "      <td>1</td>\n",
       "      <td>3</td>\n",
       "      <td>Heikkinen, Miss. Laina</td>\n",
       "      <td>female</td>\n",
       "      <td>26.0</td>\n",
       "      <td>0</td>\n",
       "      <td>0</td>\n",
       "      <td>STON/O2. 3101282</td>\n",
       "      <td>7.9250</td>\n",
       "      <td>NaN</td>\n",
       "      <td>S</td>\n",
       "    </tr>\n",
       "    <tr>\n",
       "      <th>3</th>\n",
       "      <td>4</td>\n",
       "      <td>1</td>\n",
       "      <td>1</td>\n",
       "      <td>Futrelle, Mrs. Jacques Heath (Lily May Peel)</td>\n",
       "      <td>female</td>\n",
       "      <td>35.0</td>\n",
       "      <td>1</td>\n",
       "      <td>0</td>\n",
       "      <td>113803</td>\n",
       "      <td>53.1000</td>\n",
       "      <td>C123</td>\n",
       "      <td>S</td>\n",
       "    </tr>\n",
       "    <tr>\n",
       "      <th>4</th>\n",
       "      <td>5</td>\n",
       "      <td>0</td>\n",
       "      <td>3</td>\n",
       "      <td>Allen, Mr. William Henry</td>\n",
       "      <td>male</td>\n",
       "      <td>35.0</td>\n",
       "      <td>0</td>\n",
       "      <td>0</td>\n",
       "      <td>373450</td>\n",
       "      <td>8.0500</td>\n",
       "      <td>NaN</td>\n",
       "      <td>S</td>\n",
       "    </tr>\n",
       "  </tbody>\n",
       "</table>\n",
       "</div>"
      ],
      "text/plain": [
       "   PassengerId  Survived  Pclass  \\\n",
       "0            1         0       3   \n",
       "1            2         1       1   \n",
       "2            3         1       3   \n",
       "3            4         1       1   \n",
       "4            5         0       3   \n",
       "\n",
       "                                                Name     Sex   Age  SibSp  \\\n",
       "0                            Braund, Mr. Owen Harris    male  22.0      1   \n",
       "1  Cumings, Mrs. John Bradley (Florence Briggs Th...  female  38.0      1   \n",
       "2                             Heikkinen, Miss. Laina  female  26.0      0   \n",
       "3       Futrelle, Mrs. Jacques Heath (Lily May Peel)  female  35.0      1   \n",
       "4                           Allen, Mr. William Henry    male  35.0      0   \n",
       "\n",
       "   Parch            Ticket     Fare Cabin Embarked  \n",
       "0      0         A/5 21171   7.2500   NaN        S  \n",
       "1      0          PC 17599  71.2833   C85        C  \n",
       "2      0  STON/O2. 3101282   7.9250   NaN        S  \n",
       "3      0            113803  53.1000  C123        S  \n",
       "4      0            373450   8.0500   NaN        S  "
      ]
     },
     "execution_count": 4,
     "metadata": {},
     "output_type": "execute_result"
    }
   ],
   "source": [
    "train_data.head() # First five rows"
   ]
  },
  {
   "cell_type": "code",
   "execution_count": 5,
   "metadata": {
    "execution": {
     "iopub.execute_input": "2021-05-01T12:37:48.358267Z",
     "iopub.status.busy": "2021-05-01T12:37:48.357163Z",
     "iopub.status.idle": "2021-05-01T12:37:48.430288Z",
     "shell.execute_reply": "2021-05-01T12:37:48.429584Z"
    },
    "papermill": {
     "duration": 0.116276,
     "end_time": "2021-05-01T12:37:48.430436",
     "exception": false,
     "start_time": "2021-05-01T12:37:48.314160",
     "status": "completed"
    },
    "tags": []
   },
   "outputs": [
    {
     "data": {
      "text/html": [
       "<div>\n",
       "<style scoped>\n",
       "    .dataframe tbody tr th:only-of-type {\n",
       "        vertical-align: middle;\n",
       "    }\n",
       "\n",
       "    .dataframe tbody tr th {\n",
       "        vertical-align: top;\n",
       "    }\n",
       "\n",
       "    .dataframe thead th {\n",
       "        text-align: right;\n",
       "    }\n",
       "</style>\n",
       "<table border=\"1\" class=\"dataframe\">\n",
       "  <thead>\n",
       "    <tr style=\"text-align: right;\">\n",
       "      <th></th>\n",
       "      <th>PassengerId</th>\n",
       "      <th>Survived</th>\n",
       "      <th>Pclass</th>\n",
       "      <th>Name</th>\n",
       "      <th>Sex</th>\n",
       "      <th>Age</th>\n",
       "      <th>SibSp</th>\n",
       "      <th>Parch</th>\n",
       "      <th>Ticket</th>\n",
       "      <th>Fare</th>\n",
       "      <th>Cabin</th>\n",
       "      <th>Embarked</th>\n",
       "    </tr>\n",
       "  </thead>\n",
       "  <tbody>\n",
       "    <tr>\n",
       "      <th>count</th>\n",
       "      <td>891.000000</td>\n",
       "      <td>891.000000</td>\n",
       "      <td>891.000000</td>\n",
       "      <td>891</td>\n",
       "      <td>891</td>\n",
       "      <td>714.000000</td>\n",
       "      <td>891.000000</td>\n",
       "      <td>891.000000</td>\n",
       "      <td>891</td>\n",
       "      <td>891.000000</td>\n",
       "      <td>204</td>\n",
       "      <td>889</td>\n",
       "    </tr>\n",
       "    <tr>\n",
       "      <th>unique</th>\n",
       "      <td>NaN</td>\n",
       "      <td>NaN</td>\n",
       "      <td>NaN</td>\n",
       "      <td>891</td>\n",
       "      <td>2</td>\n",
       "      <td>NaN</td>\n",
       "      <td>NaN</td>\n",
       "      <td>NaN</td>\n",
       "      <td>681</td>\n",
       "      <td>NaN</td>\n",
       "      <td>147</td>\n",
       "      <td>3</td>\n",
       "    </tr>\n",
       "    <tr>\n",
       "      <th>top</th>\n",
       "      <td>NaN</td>\n",
       "      <td>NaN</td>\n",
       "      <td>NaN</td>\n",
       "      <td>Moran, Miss. Bertha</td>\n",
       "      <td>male</td>\n",
       "      <td>NaN</td>\n",
       "      <td>NaN</td>\n",
       "      <td>NaN</td>\n",
       "      <td>CA. 2343</td>\n",
       "      <td>NaN</td>\n",
       "      <td>G6</td>\n",
       "      <td>S</td>\n",
       "    </tr>\n",
       "    <tr>\n",
       "      <th>freq</th>\n",
       "      <td>NaN</td>\n",
       "      <td>NaN</td>\n",
       "      <td>NaN</td>\n",
       "      <td>1</td>\n",
       "      <td>577</td>\n",
       "      <td>NaN</td>\n",
       "      <td>NaN</td>\n",
       "      <td>NaN</td>\n",
       "      <td>7</td>\n",
       "      <td>NaN</td>\n",
       "      <td>4</td>\n",
       "      <td>644</td>\n",
       "    </tr>\n",
       "    <tr>\n",
       "      <th>mean</th>\n",
       "      <td>446.000000</td>\n",
       "      <td>0.383838</td>\n",
       "      <td>2.308642</td>\n",
       "      <td>NaN</td>\n",
       "      <td>NaN</td>\n",
       "      <td>29.699118</td>\n",
       "      <td>0.523008</td>\n",
       "      <td>0.381594</td>\n",
       "      <td>NaN</td>\n",
       "      <td>32.204208</td>\n",
       "      <td>NaN</td>\n",
       "      <td>NaN</td>\n",
       "    </tr>\n",
       "    <tr>\n",
       "      <th>std</th>\n",
       "      <td>257.353842</td>\n",
       "      <td>0.486592</td>\n",
       "      <td>0.836071</td>\n",
       "      <td>NaN</td>\n",
       "      <td>NaN</td>\n",
       "      <td>14.526497</td>\n",
       "      <td>1.102743</td>\n",
       "      <td>0.806057</td>\n",
       "      <td>NaN</td>\n",
       "      <td>49.693429</td>\n",
       "      <td>NaN</td>\n",
       "      <td>NaN</td>\n",
       "    </tr>\n",
       "    <tr>\n",
       "      <th>min</th>\n",
       "      <td>1.000000</td>\n",
       "      <td>0.000000</td>\n",
       "      <td>1.000000</td>\n",
       "      <td>NaN</td>\n",
       "      <td>NaN</td>\n",
       "      <td>0.420000</td>\n",
       "      <td>0.000000</td>\n",
       "      <td>0.000000</td>\n",
       "      <td>NaN</td>\n",
       "      <td>0.000000</td>\n",
       "      <td>NaN</td>\n",
       "      <td>NaN</td>\n",
       "    </tr>\n",
       "    <tr>\n",
       "      <th>25%</th>\n",
       "      <td>223.500000</td>\n",
       "      <td>0.000000</td>\n",
       "      <td>2.000000</td>\n",
       "      <td>NaN</td>\n",
       "      <td>NaN</td>\n",
       "      <td>20.125000</td>\n",
       "      <td>0.000000</td>\n",
       "      <td>0.000000</td>\n",
       "      <td>NaN</td>\n",
       "      <td>7.910400</td>\n",
       "      <td>NaN</td>\n",
       "      <td>NaN</td>\n",
       "    </tr>\n",
       "    <tr>\n",
       "      <th>50%</th>\n",
       "      <td>446.000000</td>\n",
       "      <td>0.000000</td>\n",
       "      <td>3.000000</td>\n",
       "      <td>NaN</td>\n",
       "      <td>NaN</td>\n",
       "      <td>28.000000</td>\n",
       "      <td>0.000000</td>\n",
       "      <td>0.000000</td>\n",
       "      <td>NaN</td>\n",
       "      <td>14.454200</td>\n",
       "      <td>NaN</td>\n",
       "      <td>NaN</td>\n",
       "    </tr>\n",
       "    <tr>\n",
       "      <th>75%</th>\n",
       "      <td>668.500000</td>\n",
       "      <td>1.000000</td>\n",
       "      <td>3.000000</td>\n",
       "      <td>NaN</td>\n",
       "      <td>NaN</td>\n",
       "      <td>38.000000</td>\n",
       "      <td>1.000000</td>\n",
       "      <td>0.000000</td>\n",
       "      <td>NaN</td>\n",
       "      <td>31.000000</td>\n",
       "      <td>NaN</td>\n",
       "      <td>NaN</td>\n",
       "    </tr>\n",
       "    <tr>\n",
       "      <th>max</th>\n",
       "      <td>891.000000</td>\n",
       "      <td>1.000000</td>\n",
       "      <td>3.000000</td>\n",
       "      <td>NaN</td>\n",
       "      <td>NaN</td>\n",
       "      <td>80.000000</td>\n",
       "      <td>8.000000</td>\n",
       "      <td>6.000000</td>\n",
       "      <td>NaN</td>\n",
       "      <td>512.329200</td>\n",
       "      <td>NaN</td>\n",
       "      <td>NaN</td>\n",
       "    </tr>\n",
       "  </tbody>\n",
       "</table>\n",
       "</div>"
      ],
      "text/plain": [
       "        PassengerId    Survived      Pclass                 Name   Sex  \\\n",
       "count    891.000000  891.000000  891.000000                  891   891   \n",
       "unique          NaN         NaN         NaN                  891     2   \n",
       "top             NaN         NaN         NaN  Moran, Miss. Bertha  male   \n",
       "freq            NaN         NaN         NaN                    1   577   \n",
       "mean     446.000000    0.383838    2.308642                  NaN   NaN   \n",
       "std      257.353842    0.486592    0.836071                  NaN   NaN   \n",
       "min        1.000000    0.000000    1.000000                  NaN   NaN   \n",
       "25%      223.500000    0.000000    2.000000                  NaN   NaN   \n",
       "50%      446.000000    0.000000    3.000000                  NaN   NaN   \n",
       "75%      668.500000    1.000000    3.000000                  NaN   NaN   \n",
       "max      891.000000    1.000000    3.000000                  NaN   NaN   \n",
       "\n",
       "               Age       SibSp       Parch    Ticket        Fare Cabin  \\\n",
       "count   714.000000  891.000000  891.000000       891  891.000000   204   \n",
       "unique         NaN         NaN         NaN       681         NaN   147   \n",
       "top            NaN         NaN         NaN  CA. 2343         NaN    G6   \n",
       "freq           NaN         NaN         NaN         7         NaN     4   \n",
       "mean     29.699118    0.523008    0.381594       NaN   32.204208   NaN   \n",
       "std      14.526497    1.102743    0.806057       NaN   49.693429   NaN   \n",
       "min       0.420000    0.000000    0.000000       NaN    0.000000   NaN   \n",
       "25%      20.125000    0.000000    0.000000       NaN    7.910400   NaN   \n",
       "50%      28.000000    0.000000    0.000000       NaN   14.454200   NaN   \n",
       "75%      38.000000    1.000000    0.000000       NaN   31.000000   NaN   \n",
       "max      80.000000    8.000000    6.000000       NaN  512.329200   NaN   \n",
       "\n",
       "       Embarked  \n",
       "count       889  \n",
       "unique        3  \n",
       "top           S  \n",
       "freq        644  \n",
       "mean        NaN  \n",
       "std         NaN  \n",
       "min         NaN  \n",
       "25%         NaN  \n",
       "50%         NaN  \n",
       "75%         NaN  \n",
       "max         NaN  "
      ]
     },
     "execution_count": 5,
     "metadata": {},
     "output_type": "execute_result"
    }
   ],
   "source": [
    "train_data.describe(include='all') # Descriptive Statistics"
   ]
  },
  {
   "cell_type": "code",
   "execution_count": 6,
   "metadata": {
    "execution": {
     "iopub.execute_input": "2021-05-01T12:37:48.515481Z",
     "iopub.status.busy": "2021-05-01T12:37:48.514769Z",
     "iopub.status.idle": "2021-05-01T12:37:48.521329Z",
     "shell.execute_reply": "2021-05-01T12:37:48.519995Z"
    },
    "papermill": {
     "duration": 0.055406,
     "end_time": "2021-05-01T12:37:48.521534",
     "exception": false,
     "start_time": "2021-05-01T12:37:48.466128",
     "status": "completed"
    },
    "tags": []
   },
   "outputs": [
    {
     "name": "stdout",
     "output_type": "stream",
     "text": [
      "<class 'pandas.core.frame.DataFrame'>\n",
      "RangeIndex: 418 entries, 0 to 417\n",
      "Data columns (total 11 columns):\n",
      " #   Column       Non-Null Count  Dtype  \n",
      "---  ------       --------------  -----  \n",
      " 0   PassengerId  418 non-null    int64  \n",
      " 1   Pclass       418 non-null    int64  \n",
      " 2   Name         418 non-null    object \n",
      " 3   Sex          418 non-null    object \n",
      " 4   Age          332 non-null    float64\n",
      " 5   SibSp        418 non-null    int64  \n",
      " 6   Parch        418 non-null    int64  \n",
      " 7   Ticket       418 non-null    object \n",
      " 8   Fare         417 non-null    float64\n",
      " 9   Cabin        91 non-null     object \n",
      " 10  Embarked     418 non-null    object \n",
      "dtypes: float64(2), int64(4), object(5)\n",
      "memory usage: 36.0+ KB\n"
     ]
    }
   ],
   "source": [
    "score_set.info() # Feature Information"
   ]
  },
  {
   "cell_type": "code",
   "execution_count": 7,
   "metadata": {
    "execution": {
     "iopub.execute_input": "2021-05-01T12:37:48.598265Z",
     "iopub.status.busy": "2021-05-01T12:37:48.597533Z",
     "iopub.status.idle": "2021-05-01T12:37:48.613015Z",
     "shell.execute_reply": "2021-05-01T12:37:48.613628Z"
    },
    "papermill": {
     "duration": 0.05558,
     "end_time": "2021-05-01T12:37:48.613795",
     "exception": false,
     "start_time": "2021-05-01T12:37:48.558215",
     "status": "completed"
    },
    "tags": []
   },
   "outputs": [
    {
     "data": {
      "text/html": [
       "<div>\n",
       "<style scoped>\n",
       "    .dataframe tbody tr th:only-of-type {\n",
       "        vertical-align: middle;\n",
       "    }\n",
       "\n",
       "    .dataframe tbody tr th {\n",
       "        vertical-align: top;\n",
       "    }\n",
       "\n",
       "    .dataframe thead th {\n",
       "        text-align: right;\n",
       "    }\n",
       "</style>\n",
       "<table border=\"1\" class=\"dataframe\">\n",
       "  <thead>\n",
       "    <tr style=\"text-align: right;\">\n",
       "      <th></th>\n",
       "      <th>PassengerId</th>\n",
       "      <th>Pclass</th>\n",
       "      <th>Name</th>\n",
       "      <th>Sex</th>\n",
       "      <th>Age</th>\n",
       "      <th>SibSp</th>\n",
       "      <th>Parch</th>\n",
       "      <th>Ticket</th>\n",
       "      <th>Fare</th>\n",
       "      <th>Cabin</th>\n",
       "      <th>Embarked</th>\n",
       "    </tr>\n",
       "  </thead>\n",
       "  <tbody>\n",
       "    <tr>\n",
       "      <th>0</th>\n",
       "      <td>892</td>\n",
       "      <td>3</td>\n",
       "      <td>Kelly, Mr. James</td>\n",
       "      <td>male</td>\n",
       "      <td>34.5</td>\n",
       "      <td>0</td>\n",
       "      <td>0</td>\n",
       "      <td>330911</td>\n",
       "      <td>7.8292</td>\n",
       "      <td>NaN</td>\n",
       "      <td>Q</td>\n",
       "    </tr>\n",
       "    <tr>\n",
       "      <th>1</th>\n",
       "      <td>893</td>\n",
       "      <td>3</td>\n",
       "      <td>Wilkes, Mrs. James (Ellen Needs)</td>\n",
       "      <td>female</td>\n",
       "      <td>47.0</td>\n",
       "      <td>1</td>\n",
       "      <td>0</td>\n",
       "      <td>363272</td>\n",
       "      <td>7.0000</td>\n",
       "      <td>NaN</td>\n",
       "      <td>S</td>\n",
       "    </tr>\n",
       "    <tr>\n",
       "      <th>2</th>\n",
       "      <td>894</td>\n",
       "      <td>2</td>\n",
       "      <td>Myles, Mr. Thomas Francis</td>\n",
       "      <td>male</td>\n",
       "      <td>62.0</td>\n",
       "      <td>0</td>\n",
       "      <td>0</td>\n",
       "      <td>240276</td>\n",
       "      <td>9.6875</td>\n",
       "      <td>NaN</td>\n",
       "      <td>Q</td>\n",
       "    </tr>\n",
       "    <tr>\n",
       "      <th>3</th>\n",
       "      <td>895</td>\n",
       "      <td>3</td>\n",
       "      <td>Wirz, Mr. Albert</td>\n",
       "      <td>male</td>\n",
       "      <td>27.0</td>\n",
       "      <td>0</td>\n",
       "      <td>0</td>\n",
       "      <td>315154</td>\n",
       "      <td>8.6625</td>\n",
       "      <td>NaN</td>\n",
       "      <td>S</td>\n",
       "    </tr>\n",
       "    <tr>\n",
       "      <th>4</th>\n",
       "      <td>896</td>\n",
       "      <td>3</td>\n",
       "      <td>Hirvonen, Mrs. Alexander (Helga E Lindqvist)</td>\n",
       "      <td>female</td>\n",
       "      <td>22.0</td>\n",
       "      <td>1</td>\n",
       "      <td>1</td>\n",
       "      <td>3101298</td>\n",
       "      <td>12.2875</td>\n",
       "      <td>NaN</td>\n",
       "      <td>S</td>\n",
       "    </tr>\n",
       "  </tbody>\n",
       "</table>\n",
       "</div>"
      ],
      "text/plain": [
       "   PassengerId  Pclass                                          Name     Sex  \\\n",
       "0          892       3                              Kelly, Mr. James    male   \n",
       "1          893       3              Wilkes, Mrs. James (Ellen Needs)  female   \n",
       "2          894       2                     Myles, Mr. Thomas Francis    male   \n",
       "3          895       3                              Wirz, Mr. Albert    male   \n",
       "4          896       3  Hirvonen, Mrs. Alexander (Helga E Lindqvist)  female   \n",
       "\n",
       "    Age  SibSp  Parch   Ticket     Fare Cabin Embarked  \n",
       "0  34.5      0      0   330911   7.8292   NaN        Q  \n",
       "1  47.0      1      0   363272   7.0000   NaN        S  \n",
       "2  62.0      0      0   240276   9.6875   NaN        Q  \n",
       "3  27.0      0      0   315154   8.6625   NaN        S  \n",
       "4  22.0      1      1  3101298  12.2875   NaN        S  "
      ]
     },
     "execution_count": 7,
     "metadata": {},
     "output_type": "execute_result"
    }
   ],
   "source": [
    "score_set.head() # First five rows"
   ]
  },
  {
   "cell_type": "code",
   "execution_count": 8,
   "metadata": {
    "execution": {
     "iopub.execute_input": "2021-05-01T12:37:48.697246Z",
     "iopub.status.busy": "2021-05-01T12:37:48.696509Z",
     "iopub.status.idle": "2021-05-01T12:37:48.741603Z",
     "shell.execute_reply": "2021-05-01T12:37:48.742107Z"
    },
    "papermill": {
     "duration": 0.090725,
     "end_time": "2021-05-01T12:37:48.742325",
     "exception": false,
     "start_time": "2021-05-01T12:37:48.651600",
     "status": "completed"
    },
    "tags": []
   },
   "outputs": [
    {
     "data": {
      "text/html": [
       "<div>\n",
       "<style scoped>\n",
       "    .dataframe tbody tr th:only-of-type {\n",
       "        vertical-align: middle;\n",
       "    }\n",
       "\n",
       "    .dataframe tbody tr th {\n",
       "        vertical-align: top;\n",
       "    }\n",
       "\n",
       "    .dataframe thead th {\n",
       "        text-align: right;\n",
       "    }\n",
       "</style>\n",
       "<table border=\"1\" class=\"dataframe\">\n",
       "  <thead>\n",
       "    <tr style=\"text-align: right;\">\n",
       "      <th></th>\n",
       "      <th>PassengerId</th>\n",
       "      <th>Pclass</th>\n",
       "      <th>Name</th>\n",
       "      <th>Sex</th>\n",
       "      <th>Age</th>\n",
       "      <th>SibSp</th>\n",
       "      <th>Parch</th>\n",
       "      <th>Ticket</th>\n",
       "      <th>Fare</th>\n",
       "      <th>Cabin</th>\n",
       "      <th>Embarked</th>\n",
       "    </tr>\n",
       "  </thead>\n",
       "  <tbody>\n",
       "    <tr>\n",
       "      <th>count</th>\n",
       "      <td>418.000000</td>\n",
       "      <td>418.000000</td>\n",
       "      <td>418</td>\n",
       "      <td>418</td>\n",
       "      <td>332.000000</td>\n",
       "      <td>418.000000</td>\n",
       "      <td>418.000000</td>\n",
       "      <td>418</td>\n",
       "      <td>417.000000</td>\n",
       "      <td>91</td>\n",
       "      <td>418</td>\n",
       "    </tr>\n",
       "    <tr>\n",
       "      <th>unique</th>\n",
       "      <td>NaN</td>\n",
       "      <td>NaN</td>\n",
       "      <td>418</td>\n",
       "      <td>2</td>\n",
       "      <td>NaN</td>\n",
       "      <td>NaN</td>\n",
       "      <td>NaN</td>\n",
       "      <td>363</td>\n",
       "      <td>NaN</td>\n",
       "      <td>76</td>\n",
       "      <td>3</td>\n",
       "    </tr>\n",
       "    <tr>\n",
       "      <th>top</th>\n",
       "      <td>NaN</td>\n",
       "      <td>NaN</td>\n",
       "      <td>Bowen, Miss. Grace Scott</td>\n",
       "      <td>male</td>\n",
       "      <td>NaN</td>\n",
       "      <td>NaN</td>\n",
       "      <td>NaN</td>\n",
       "      <td>PC 17608</td>\n",
       "      <td>NaN</td>\n",
       "      <td>B57 B59 B63 B66</td>\n",
       "      <td>S</td>\n",
       "    </tr>\n",
       "    <tr>\n",
       "      <th>freq</th>\n",
       "      <td>NaN</td>\n",
       "      <td>NaN</td>\n",
       "      <td>1</td>\n",
       "      <td>266</td>\n",
       "      <td>NaN</td>\n",
       "      <td>NaN</td>\n",
       "      <td>NaN</td>\n",
       "      <td>5</td>\n",
       "      <td>NaN</td>\n",
       "      <td>3</td>\n",
       "      <td>270</td>\n",
       "    </tr>\n",
       "    <tr>\n",
       "      <th>mean</th>\n",
       "      <td>1100.500000</td>\n",
       "      <td>2.265550</td>\n",
       "      <td>NaN</td>\n",
       "      <td>NaN</td>\n",
       "      <td>30.272590</td>\n",
       "      <td>0.447368</td>\n",
       "      <td>0.392344</td>\n",
       "      <td>NaN</td>\n",
       "      <td>35.627188</td>\n",
       "      <td>NaN</td>\n",
       "      <td>NaN</td>\n",
       "    </tr>\n",
       "    <tr>\n",
       "      <th>std</th>\n",
       "      <td>120.810458</td>\n",
       "      <td>0.841838</td>\n",
       "      <td>NaN</td>\n",
       "      <td>NaN</td>\n",
       "      <td>14.181209</td>\n",
       "      <td>0.896760</td>\n",
       "      <td>0.981429</td>\n",
       "      <td>NaN</td>\n",
       "      <td>55.907576</td>\n",
       "      <td>NaN</td>\n",
       "      <td>NaN</td>\n",
       "    </tr>\n",
       "    <tr>\n",
       "      <th>min</th>\n",
       "      <td>892.000000</td>\n",
       "      <td>1.000000</td>\n",
       "      <td>NaN</td>\n",
       "      <td>NaN</td>\n",
       "      <td>0.170000</td>\n",
       "      <td>0.000000</td>\n",
       "      <td>0.000000</td>\n",
       "      <td>NaN</td>\n",
       "      <td>0.000000</td>\n",
       "      <td>NaN</td>\n",
       "      <td>NaN</td>\n",
       "    </tr>\n",
       "    <tr>\n",
       "      <th>25%</th>\n",
       "      <td>996.250000</td>\n",
       "      <td>1.000000</td>\n",
       "      <td>NaN</td>\n",
       "      <td>NaN</td>\n",
       "      <td>21.000000</td>\n",
       "      <td>0.000000</td>\n",
       "      <td>0.000000</td>\n",
       "      <td>NaN</td>\n",
       "      <td>7.895800</td>\n",
       "      <td>NaN</td>\n",
       "      <td>NaN</td>\n",
       "    </tr>\n",
       "    <tr>\n",
       "      <th>50%</th>\n",
       "      <td>1100.500000</td>\n",
       "      <td>3.000000</td>\n",
       "      <td>NaN</td>\n",
       "      <td>NaN</td>\n",
       "      <td>27.000000</td>\n",
       "      <td>0.000000</td>\n",
       "      <td>0.000000</td>\n",
       "      <td>NaN</td>\n",
       "      <td>14.454200</td>\n",
       "      <td>NaN</td>\n",
       "      <td>NaN</td>\n",
       "    </tr>\n",
       "    <tr>\n",
       "      <th>75%</th>\n",
       "      <td>1204.750000</td>\n",
       "      <td>3.000000</td>\n",
       "      <td>NaN</td>\n",
       "      <td>NaN</td>\n",
       "      <td>39.000000</td>\n",
       "      <td>1.000000</td>\n",
       "      <td>0.000000</td>\n",
       "      <td>NaN</td>\n",
       "      <td>31.500000</td>\n",
       "      <td>NaN</td>\n",
       "      <td>NaN</td>\n",
       "    </tr>\n",
       "    <tr>\n",
       "      <th>max</th>\n",
       "      <td>1309.000000</td>\n",
       "      <td>3.000000</td>\n",
       "      <td>NaN</td>\n",
       "      <td>NaN</td>\n",
       "      <td>76.000000</td>\n",
       "      <td>8.000000</td>\n",
       "      <td>9.000000</td>\n",
       "      <td>NaN</td>\n",
       "      <td>512.329200</td>\n",
       "      <td>NaN</td>\n",
       "      <td>NaN</td>\n",
       "    </tr>\n",
       "  </tbody>\n",
       "</table>\n",
       "</div>"
      ],
      "text/plain": [
       "        PassengerId      Pclass                      Name   Sex         Age  \\\n",
       "count    418.000000  418.000000                       418   418  332.000000   \n",
       "unique          NaN         NaN                       418     2         NaN   \n",
       "top             NaN         NaN  Bowen, Miss. Grace Scott  male         NaN   \n",
       "freq            NaN         NaN                         1   266         NaN   \n",
       "mean    1100.500000    2.265550                       NaN   NaN   30.272590   \n",
       "std      120.810458    0.841838                       NaN   NaN   14.181209   \n",
       "min      892.000000    1.000000                       NaN   NaN    0.170000   \n",
       "25%      996.250000    1.000000                       NaN   NaN   21.000000   \n",
       "50%     1100.500000    3.000000                       NaN   NaN   27.000000   \n",
       "75%     1204.750000    3.000000                       NaN   NaN   39.000000   \n",
       "max     1309.000000    3.000000                       NaN   NaN   76.000000   \n",
       "\n",
       "             SibSp       Parch    Ticket        Fare            Cabin Embarked  \n",
       "count   418.000000  418.000000       418  417.000000               91      418  \n",
       "unique         NaN         NaN       363         NaN               76        3  \n",
       "top            NaN         NaN  PC 17608         NaN  B57 B59 B63 B66        S  \n",
       "freq           NaN         NaN         5         NaN                3      270  \n",
       "mean      0.447368    0.392344       NaN   35.627188              NaN      NaN  \n",
       "std       0.896760    0.981429       NaN   55.907576              NaN      NaN  \n",
       "min       0.000000    0.000000       NaN    0.000000              NaN      NaN  \n",
       "25%       0.000000    0.000000       NaN    7.895800              NaN      NaN  \n",
       "50%       0.000000    0.000000       NaN   14.454200              NaN      NaN  \n",
       "75%       1.000000    0.000000       NaN   31.500000              NaN      NaN  \n",
       "max       8.000000    9.000000       NaN  512.329200              NaN      NaN  "
      ]
     },
     "execution_count": 8,
     "metadata": {},
     "output_type": "execute_result"
    }
   ],
   "source": [
    "score_set.describe(include='all') # Descriptive Statistics"
   ]
  },
  {
   "cell_type": "markdown",
   "metadata": {
    "papermill": {
     "duration": 0.037054,
     "end_time": "2021-05-01T12:37:48.816946",
     "exception": false,
     "start_time": "2021-05-01T12:37:48.779892",
     "status": "completed"
    },
    "tags": []
   },
   "source": [
    "# Analysis\n",
    "## Total distribution of each discrete variable\n",
    "We can visualize the distribution of the discrete variables to look into the different possible values each can take and the distribution of these values. "
   ]
  },
  {
   "cell_type": "code",
   "execution_count": 9,
   "metadata": {
    "execution": {
     "iopub.execute_input": "2021-05-01T12:37:48.903220Z",
     "iopub.status.busy": "2021-05-01T12:37:48.901862Z",
     "iopub.status.idle": "2021-05-01T12:37:50.018555Z",
     "shell.execute_reply": "2021-05-01T12:37:50.017976Z"
    },
    "papermill": {
     "duration": 1.16374,
     "end_time": "2021-05-01T12:37:50.018697",
     "exception": false,
     "start_time": "2021-05-01T12:37:48.854957",
     "status": "completed"
    },
    "tags": []
   },
   "outputs": [
    {
     "data": {
      "image/png": "[encoded data removed]",
      "text/plain": [
       "<Figure size 1440x1080 with 6 Axes>"
      ]
     },
     "metadata": {
      "needs_background": "light"
     },
     "output_type": "display_data"
    }
   ],
   "source": [
    "plt.figure(figsize=(20, 15))\n",
    "\n",
    "# Survived Plot\n",
    "plt.subplot(3, 2, 1)\n",
    "train_data['Survived'].value_counts().plot(kind='bar')\n",
    "plt.title('Survived')\n",
    "\n",
    "# Pclass Plot\n",
    "plt.subplot(3, 2, 2)\n",
    "train_data['Pclass'].value_counts().plot(kind='bar')\n",
    "plt.title('Pclass')\n",
    "\n",
    "# Sex Plot\n",
    "plt.subplot(3, 2, 3)\n",
    "train_data['Sex'].value_counts().plot(kind='bar')\n",
    "plt.title('Sex')\n",
    "\n",
    "# Siblings and Spouses Plot\n",
    "plt.subplot(3, 2, 4)\n",
    "train_data['SibSp'].value_counts().plot(kind='bar')\n",
    "plt.title('SibSp')\n",
    "\n",
    "# Parents and Children Plot\n",
    "plt.subplot(3, 2, 5)\n",
    "train_data['Parch'].value_counts().plot(kind='bar')\n",
    "plt.title('Parch')\n",
    "\n",
    "# Embarked Plot\n",
    "plt.subplot(3, 2, 6)\n",
    "train_data['Embarked'].value_counts().plot(kind='bar')\n",
    "plt.title('Embarked')\n",
    "\n",
    "plt.tight_layout() "
   ]
  },
  {
   "cell_type": "markdown",
   "metadata": {
    "papermill": {
     "duration": 0.039396,
     "end_time": "2021-05-01T12:37:50.097598",
     "exception": false,
     "start_time": "2021-05-01T12:37:50.058202",
     "status": "completed"
    },
    "tags": []
   },
   "source": [
    "Below we can see that the Ticket and Cabin column have a lot of unique values which we have to clean up later."
   ]
  },
  {
   "cell_type": "code",
   "execution_count": 10,
   "metadata": {
    "execution": {
     "iopub.execute_input": "2021-05-01T12:37:50.183714Z",
     "iopub.status.busy": "2021-05-01T12:37:50.182874Z",
     "iopub.status.idle": "2021-05-01T12:37:59.026102Z",
     "shell.execute_reply": "2021-05-01T12:37:59.026648Z"
    },
    "papermill": {
     "duration": 8.890689,
     "end_time": "2021-05-01T12:37:59.026846",
     "exception": false,
     "start_time": "2021-05-01T12:37:50.136157",
     "status": "completed"
    },
    "tags": []
   },
   "outputs": [
    {
     "data": {
      "image/png": "[encoded data removed]",
      "text/plain": [
       "<Figure size 720x360 with 2 Axes>"
      ]
     },
     "metadata": {
      "needs_background": "light"
     },
     "output_type": "display_data"
    }
   ],
   "source": [
    "plt.figure(figsize=(10, 5))\n",
    "\n",
    "# Ticket Plot\n",
    "plt.subplot(1, 2, 1)\n",
    "train_data['Ticket'].value_counts().plot(kind='bar')\n",
    "plt.title('Ticket')\n",
    "\n",
    "# Cabin Plot\n",
    "plt.subplot(1, 2, 2)\n",
    "train_data['Cabin'].value_counts().plot(kind='bar')\n",
    "plt.title('Cabin')\n",
    "\n",
    "plt.tight_layout() "
   ]
  },
  {
   "cell_type": "markdown",
   "metadata": {
    "papermill": {
     "duration": 0.043892,
     "end_time": "2021-05-01T12:37:59.113631",
     "exception": false,
     "start_time": "2021-05-01T12:37:59.069739",
     "status": "completed"
    },
    "tags": []
   },
   "source": [
    "## Distribution for each continuous variable"
   ]
  },
  {
   "cell_type": "markdown",
   "metadata": {
    "papermill": {
     "duration": 0.041899,
     "end_time": "2021-05-01T12:37:59.197504",
     "exception": false,
     "start_time": "2021-05-01T12:37:59.155605",
     "status": "completed"
    },
    "tags": []
   },
   "source": [
    "We do the same for continuous variables to detect potential outliers. Age doesn't seem to have any outliers. Fare could have one at 500, however, a quick google search shows that the prices were as high as 4300$ meaning we have not an outlier here as well."
   ]
  },
  {
   "cell_type": "code",
   "execution_count": 11,
   "metadata": {
    "execution": {
     "iopub.execute_input": "2021-05-01T12:37:59.284880Z",
     "iopub.status.busy": "2021-05-01T12:37:59.284102Z",
     "iopub.status.idle": "2021-05-01T12:38:00.173807Z",
     "shell.execute_reply": "2021-05-01T12:38:00.173082Z"
    },
    "papermill": {
     "duration": 0.934898,
     "end_time": "2021-05-01T12:38:00.173939",
     "exception": false,
     "start_time": "2021-05-01T12:37:59.239041",
     "status": "completed"
    },
    "tags": []
   },
   "outputs": [
    {
     "data": {
      "image/png": "[encoded data removed]",
      "text/plain": [
       "<Figure size 720x720 with 4 Axes>"
      ]
     },
     "metadata": {
      "needs_background": "light"
     },
     "output_type": "display_data"
    }
   ],
   "source": [
    "plt.figure(figsize=(10, 10))\n",
    "\n",
    "# Age Boxplot\n",
    "plt.subplot(2, 2, 1)\n",
    "train_data.boxplot(column=['Age'])\n",
    "plt.title(\"Age\")\n",
    "\n",
    "# Age Histogram\n",
    "plt.subplot(2, 2, 2)\n",
    "train_data['Age'].hist()\n",
    "plt.title(\"Age\")\n",
    "plt.ylabel(\"(Absolute) Frequency\")\n",
    "\n",
    "# Fare Boxplot\n",
    "plt.subplot(2, 2, 3)\n",
    "train_data.boxplot(column=['Fare'])\n",
    "plt.title(\"Fare\")\n",
    "plt.subplot(2, 2, 4)\n",
    "\n",
    "# Fare Histogram\n",
    "train_data['Fare'].hist()\n",
    "plt.title(\"Fare\")\n",
    "plt.ylabel(\"(Absolute) Frequency\")\n",
    "\n",
    "plt.tight_layout() "
   ]
  },
  {
   "cell_type": "markdown",
   "metadata": {
    "papermill": {
     "duration": 0.041471,
     "end_time": "2021-05-01T12:38:00.257401",
     "exception": false,
     "start_time": "2021-05-01T12:38:00.215930",
     "status": "completed"
    },
    "tags": []
   },
   "source": [
    "## Calculate missing data for Train Data and Score Set\n",
    "Calculating the percentages of missing data for each column we see that we have to impute values for the Age and Cabin column. The Cabin column could even be dropped as it has a big percentage of its values missing."
   ]
  },
  {
   "cell_type": "code",
   "execution_count": 12,
   "metadata": {
    "execution": {
     "iopub.execute_input": "2021-05-01T12:38:00.364027Z",
     "iopub.status.busy": "2021-05-01T12:38:00.362804Z",
     "iopub.status.idle": "2021-05-01T12:38:00.368879Z",
     "shell.execute_reply": "2021-05-01T12:38:00.369575Z"
    },
    "papermill": {
     "duration": 0.070554,
     "end_time": "2021-05-01T12:38:00.369725",
     "exception": false,
     "start_time": "2021-05-01T12:38:00.299171",
     "status": "completed"
    },
    "tags": []
   },
   "outputs": [
    {
     "name": "stdout",
     "output_type": "stream",
     "text": [
      "Missing Data Train Data \n",
      "              total_missing  perc_missing\n",
      "PassengerId              0      0.000000\n",
      "Survived                 0      0.000000\n",
      "Pclass                   0      0.000000\n",
      "Name                     0      0.000000\n",
      "Sex                      0      0.000000\n",
      "Age                    177     19.865320\n",
      "SibSp                    0      0.000000\n",
      "Parch                    0      0.000000\n",
      "Ticket                   0      0.000000\n",
      "Fare                     0      0.000000\n",
      "Cabin                  687     77.104377\n",
      "Embarked                 2      0.224467 \n",
      "\n",
      "Missing Data Score Set \n",
      "              total_missing  perc_missing\n",
      "PassengerId              0      0.000000\n",
      "Pclass                   0      0.000000\n",
      "Name                     0      0.000000\n",
      "Sex                      0      0.000000\n",
      "Age                     86     20.574163\n",
      "SibSp                    0      0.000000\n",
      "Parch                    0      0.000000\n",
      "Ticket                   0      0.000000\n",
      "Fare                     1      0.239234\n",
      "Cabin                  327     78.229665\n",
      "Embarked                 0      0.000000\n"
     ]
    }
   ],
   "source": [
    "# Missing Data Train Data\n",
    "missing_data_train = pd.DataFrame({'total_missing': train_data.isnull().sum(), 'perc_missing': (train_data.isnull().sum()/891)*100})\n",
    "print('Missing Data Train Data \\n',missing_data_train,'\\n')\n",
    "\n",
    "# Missing Data Score Set\n",
    "missing_data_score = pd.DataFrame({'total_missing': score_set.isnull().sum(), 'perc_missing': (score_set.isnull().sum()/418)*100})\n",
    "print('Missing Data Score Set \\n',missing_data_score)"
   ]
  },
  {
   "cell_type": "markdown",
   "metadata": {
    "papermill": {
     "duration": 0.041803,
     "end_time": "2021-05-01T12:38:00.454762",
     "exception": false,
     "start_time": "2021-05-01T12:38:00.412959",
     "status": "completed"
    },
    "tags": []
   },
   "source": [
    "## Show distribution given Target variable\n",
    "In correlation to the target variable, we can see for example that people that were in the first class and female had higher survival rates than others males or people travelling third class."
   ]
  },
  {
   "cell_type": "code",
   "execution_count": 13,
   "metadata": {
    "execution": {
     "iopub.execute_input": "2021-05-01T12:38:00.554506Z",
     "iopub.status.busy": "2021-05-01T12:38:00.549007Z",
     "iopub.status.idle": "2021-05-01T12:38:01.022210Z",
     "shell.execute_reply": "2021-05-01T12:38:01.022930Z"
    },
    "papermill": {
     "duration": 0.525451,
     "end_time": "2021-05-01T12:38:01.023084",
     "exception": false,
     "start_time": "2021-05-01T12:38:00.497633",
     "status": "completed"
    },
    "tags": []
   },
   "outputs": [
    {
     "name": "stdout",
     "output_type": "stream",
     "text": [
      "Pclass          1         2         3       All\n",
      "Survived                                       \n",
      "0         0.37037  0.527174  0.757637  0.616162\n",
      "1         0.62963  0.472826  0.242363  0.383838 \n",
      "\n",
      "Sex         female      male       All\n",
      "Survived                              \n",
      "0         0.257962  0.811092  0.616162\n",
      "1         0.742038  0.188908  0.383838 \n",
      "\n",
      "Parch            0         1    2    3    4    5    6       All\n",
      "Survived                                                       \n",
      "0         0.656342  0.449153  0.5  0.4  1.0  0.8  1.0  0.616162\n",
      "1         0.343658  0.550847  0.5  0.6  0.0  0.2  0.0  0.383838 \n",
      "\n",
      "SibSp            0         1         2     3         4    5    8       All\n",
      "Survived                                                                  \n",
      "0         0.654605  0.464115  0.535714  0.75  0.833333  1.0  1.0  0.616162\n",
      "1         0.345395  0.535885  0.464286  0.25  0.166667  0.0  0.0  0.383838 \n",
      "\n",
      "Embarked         C        Q         S       All\n",
      "Survived                                       \n",
      "0         0.446429  0.61039  0.663043  0.617548\n",
      "1         0.553571  0.38961  0.336957  0.382452 \n",
      "\n"
     ]
    }
   ],
   "source": [
    "# Target Variable\n",
    "Status = train_data['Survived']\n",
    "\n",
    "# Correlation Pclass\n",
    "train_data['Pclass'].value_counts()\n",
    "pd.crosstab(Status, train_data['Pclass'], margins=True)\n",
    "print(pd.crosstab(Status, train_data['Pclass'], margins=True, normalize='columns'),'\\n')\n",
    "\n",
    "# Correlation Sex\n",
    "train_data['Sex'].value_counts()\n",
    "pd.crosstab(Status, train_data['Sex'], margins=True)\n",
    "print(pd.crosstab(Status, train_data['Sex'], margins=True, normalize='columns'),'\\n')\n",
    "\n",
    "# Correlation Parents and Children\n",
    "train_data['Parch'].value_counts()\n",
    "pd.crosstab(Status, train_data['Parch'], margins=True)\n",
    "print(pd.crosstab(Status, train_data['Parch'], margins=True, normalize='columns'),'\\n')\n",
    "\n",
    "# Correlation Siblings and Spouses\n",
    "train_data['SibSp'].value_counts()\n",
    "pd.crosstab(Status, train_data['SibSp'], margins=True)\n",
    "print(pd.crosstab(Status, train_data['SibSp'], margins=True, normalize='columns'),'\\n')\n",
    "\n",
    "# Correlation Embarked\n",
    "train_data['Embarked'].value_counts()\n",
    "pd.crosstab(Status, train_data['Embarked'], margins=True)\n",
    "print(pd.crosstab(Status, train_data['Embarked'], margins=True, normalize='columns'),'\\n')"
   ]
  },
  {
   "cell_type": "markdown",
   "metadata": {
    "papermill": {
     "duration": 0.042872,
     "end_time": "2021-05-01T12:38:01.109813",
     "exception": false,
     "start_time": "2021-05-01T12:38:01.066941",
     "status": "completed"
    },
    "tags": []
   },
   "source": [
    "## Plot correlation of variables\n",
    "Pclass and Fare have the highest correlation to the target variable. One important point is that it doesn't matter if and how strong variables correlate if you want to predict something! It only matters if you want to explain certain phenomena influenced by variables."
   ]
  },
  {
   "cell_type": "code",
   "execution_count": 14,
   "metadata": {
    "execution": {
     "iopub.execute_input": "2021-05-01T12:38:01.207676Z",
     "iopub.status.busy": "2021-05-01T12:38:01.206221Z",
     "iopub.status.idle": "2021-05-01T12:38:01.557926Z",
     "shell.execute_reply": "2021-05-01T12:38:01.557159Z"
    },
    "papermill": {
     "duration": 0.404842,
     "end_time": "2021-05-01T12:38:01.558086",
     "exception": false,
     "start_time": "2021-05-01T12:38:01.153244",
     "status": "completed"
    },
    "tags": []
   },
   "outputs": [
    {
     "name": "stdout",
     "output_type": "stream",
     "text": [
      "Pclass        -0.338481\n",
      "Age           -0.077221\n",
      "SibSp         -0.035322\n",
      "PassengerId   -0.005007\n",
      "Parch          0.081629\n",
      "Fare           0.257307\n",
      "Survived       1.000000\n",
      "dtype: float64\n"
     ]
    },
    {
     "data": {
      "image/png": "[encoded data removed]",
      "text/plain": [
       "<Figure size 432x288 with 2 Axes>"
      ]
     },
     "metadata": {
      "needs_background": "light"
     },
     "output_type": "display_data"
    }
   ],
   "source": [
    "# Compute correlation matrix\n",
    "corr = train_data.corr()\n",
    "\n",
    "# Drop PassengerId\n",
    "corr_adjusted = train_data.drop(columns=['PassengerId']).corr()\n",
    "\n",
    "# Visualization of the correlation matrix with Seaborn library\n",
    "import seaborn as sns\n",
    "heat = sns.heatmap(corr_adjusted, \n",
    "            xticklabels=corr_adjusted.columns.values,\n",
    "            yticklabels=corr_adjusted.columns.values)\n",
    "\n",
    "# Correlation Values\n",
    "print(train_data.corrwith(train_data[\"Survived\"]).sort_values())"
   ]
  },
  {
   "cell_type": "markdown",
   "metadata": {
    "papermill": {
     "duration": 0.045266,
     "end_time": "2021-05-01T12:38:01.649804",
     "exception": false,
     "start_time": "2021-05-01T12:38:01.604538",
     "status": "completed"
    },
    "tags": []
   },
   "source": [
    "# Data Preprocessing"
   ]
  },
  {
   "cell_type": "markdown",
   "metadata": {
    "papermill": {
     "duration": 0.044197,
     "end_time": "2021-05-01T12:38:01.738428",
     "exception": false,
     "start_time": "2021-05-01T12:38:01.694231",
     "status": "completed"
    },
    "tags": []
   },
   "source": [
    "## Feature Engineering"
   ]
  },
  {
   "cell_type": "markdown",
   "metadata": {
    "papermill": {
     "duration": 0.044026,
     "end_time": "2021-05-01T12:38:01.826982",
     "exception": false,
     "start_time": "2021-05-01T12:38:01.782956",
     "status": "completed"
    },
    "tags": []
   },
   "source": [
    "For the Train Data and Score Set, we map the Sex column to numbers and create the Family Size and Is Alone Feature. For Family Size we take Siblings and Spouses column (SibSp) and the Parents and Children Column (Parch) and add one to it to generate the whole Family Size on the Titanic. If Family Size is 1 it means the person is travelling alone and we set Is Alone to one indicating Is Alone is true."
   ]
  },
  {
   "cell_type": "code",
   "execution_count": 15,
   "metadata": {
    "execution": {
     "iopub.execute_input": "2021-05-01T12:38:01.936811Z",
     "iopub.status.busy": "2021-05-01T12:38:01.932145Z",
     "iopub.status.idle": "2021-05-01T12:38:01.941658Z",
     "shell.execute_reply": "2021-05-01T12:38:01.942199Z"
    },
    "papermill": {
     "duration": 0.070397,
     "end_time": "2021-05-01T12:38:01.942374",
     "exception": false,
     "start_time": "2021-05-01T12:38:01.871977",
     "status": "completed"
    },
    "tags": []
   },
   "outputs": [],
   "source": [
    "#Feature Engineering\n",
    "\n",
    "#Train Data\n",
    "\n",
    "#Map Sex to numbers\n",
    "train_data['Sex'] = train_data['Sex'].map( {'female': 1, 'male': 0} ).astype(int)\n",
    "\n",
    "#Engineer FamiliySize feature\n",
    "train_data['FamilySize'] = train_data['SibSp'] + train_data['Parch'] + 1\n",
    "\n",
    "#Engineer IsAlone feature\n",
    "train_data['IsAlone'] = 0\n",
    "train_data.loc[train_data['FamilySize'] == 1, 'IsAlone'] = 1\n",
    "\n",
    "#Score Set\n",
    "\n",
    "#Map Sex to numbers\n",
    "score_set['Sex'] = score_set['Sex'].map( {'female': 1, 'male': 0} ).astype(int)\n",
    "\n",
    "#Engineer FamiliySize feature\n",
    "score_set['FamilySize'] = score_set['SibSp'] + score_set['Parch'] + 1\n",
    "\n",
    "#Engineer IsAlone feature\n",
    "score_set['IsAlone'] = 0\n",
    "score_set.loc[score_set['FamilySize'] == 1, 'IsAlone'] = 1"
   ]
  },
  {
   "cell_type": "markdown",
   "metadata": {
    "papermill": {
     "duration": 0.044122,
     "end_time": "2021-05-01T12:38:02.030906",
     "exception": false,
     "start_time": "2021-05-01T12:38:01.986784",
     "status": "completed"
    },
    "tags": []
   },
   "source": [
    "## Pipeline and Data Leakage\n",
    "### General Important Concepts\n",
    "Before we start to explaining **Pipelines** and **Data Leakage** we should look at the overall principles of Data Science and Predictive Modelling. In Data Science Projects often labelled **Train Data** and unlabeled **Test Data** (which we named Score Set) is given. The goal is to learn patterns from the Train Data and apply these learned patterns and rules to the Score Set to predict as best as possible the correct labels. Most simply we take the whole Train Data, learn the patterns and predict the labels of the Score Set. This is however a very bad way to do it because we have no information on how good our model performs. Sure we can just take our model and predict on the Train Data to get an accuracy score, but just let me show you some pictures from Wikimedia explaining the problem with that:\n",
    "\n",
    "<img src=\"https://upload.wikimedia.org/wikipedia/commons/1/19/Overfitting.svg\" width=\"300\">\n",
    "\n",
    "Chabacano, CC BY-SA 4.0 <https://creativecommons.org/licenses/by-sa/4.0>, via Wikimedia Commons\n",
    "\n",
    "<img src=\"https://upload.wikimedia.org/wikipedia/commons/5/52/2d-epochs-overfitting.svg\" width=\"300\">\n",
    "\n",
    "MartinThoma, CC0, via Wikimedia Commons\n",
    "\n",
    "As you can see the Performance / Predictive Power on your Train Data gets better and better the more we train and the more complex our model gets, but on the Score Set, there is a point where the performance goes down. This is called **Overfitting** and a very very important concept. It shows that we memorize the Train Data too much and don't generalize any more. To avoid this we introduce a **Test Set**. A Test Set is a standalone part of the Train Data we don't train on but test the model after the training phase to get an unbiased evaluation of our model. We now have a Train Set and Test Set. Usually, it is around 20 % of the Train Data, but it depends on the size of the data. If the performance on the Test Set gets down we stop training as we've found the sweet spot with the highest performance on unseen data. \n",
    "\n",
    "What if we want to tune the model in the training phase? Trying different parameters and techniques? If we evaluate all these possible configurations on the Test Set we no longer have an unbiased data set on which we can evaluate the final model with the best parameters. We simply create another standalone set of the Train Data, the **Validation Set**. It is usually around 20 % of the Train Data we have left after have it split into Train Set and Test Set. The logical workflow is as follows. Split the Train Data into Train Set, Validation Set and Test set. Train the model on our Train Set and try different parameters. For each model, the configuration takes the performance on the Validation Set. After training, take the best model configuration given the different performances on the Validation Set and evaluate the final model on the Test Set to get an unbiased opinion on how well our final model predicts unseen data.\n",
    "\n",
    "<img src=\"https://upload.wikimedia.org/wikipedia/commons/b/bb/ML_dataset_training_validation_test_sets.png\" width=\"600\">\n",
    "\n",
    "Km121220, CC BY-SA 4.0 <https://creativecommons.org/licenses/by-sa/4.0>, via Wikimedia Commons\n",
    "\n",
    "### Data Leakage\n",
    "To get evaluation values that are the closest to how our model will perform on unseen data we should take a look at **Data Leakage**. Data leakage describes if the information of the Test Set and Validation Set leak into our Train Set and model, meaning both sets are not 100 % unseen any longer. A typical example is if we calculate the mean of the whole Train Data and impute it where data is missing. The right way to do it would be to split the Train Data into Train Set, Validation Set and Test Set, calculate the mean of the only Train Set and impute it into the three sets where data is missing. In this way, there is no information flow from the Validation Set and Test Set into the Train Set. You should always think of the information you derive and compute for the Train Data as a one-way lane from the Train Set to the Validation Set and Test Set.\n",
    "### The Pipeline and Cross-Fold-Validation\n",
    "A **Pipeline** can be seen as a set of sequential steps transforming given data when calling the Pipeline. The transformations can be normalizations, imputations or custom mappings to other datatypes. Why are we using it? To prevent data leakage when using another method: **Cross-Fold-Validation**. Using Cross-Fold-Validation we part the Train Data in a Train Set and Test Set. The method then parts the Train Set into n-folds (like 5 or 10), trains on n-1 folds and validates on the last fold. It does that n-times for every possible train folds - validation fold configuration and takes the mean of all calculated evaluation metrics. Imagine we have three folds and want to impute missing data. To prevent Data Leakage we have to calculate the mean of a column from the first two folds and impute the solution in all three folds. We then train and evaluate. The next step is to do it again, but taking the second and third fold for calculation and training and impute and evaluate on the first and so on. This would mean a lot of code. With a pipeline, we can define the data preprocessing before, pass the pipeline to Cross-Fold-Validation where the preprocessing is run automatically for every single fold configuration. In short: We prevent Data Leakage!\n",
    "\n",
    "I could only find a picture of Cross-Fold-Validation in another language than English on Wikimedia. The first block 'conjunto de dados' stands here for the Train Set from option 'A' in the picture above. As you can see the Train Set gets parted into four-folds. The blue folds are the Train Set for the respective fold, the yellow folds the Validation Set for the respective fold.\n",
    "\n",
    "<img src=\"https://upload.wikimedia.org/wikipedia/commons/5/5c/K-Fold_Cross-Validation.png\" width=\"600\">\n",
    "\n",
    "Leomaurodesenv, CC BY-SA 4.0 <https://creativecommons.org/licenses/by-sa/4.0>, via Wikimedia Commons"
   ]
  },
  {
   "cell_type": "markdown",
   "metadata": {
    "papermill": {
     "duration": 0.044618,
     "end_time": "2021-05-01T12:38:02.120142",
     "exception": false,
     "start_time": "2021-05-01T12:38:02.075524",
     "status": "completed"
    },
    "tags": []
   },
   "source": [
    "### Custom Methods\n",
    "At first, we look at some custom methods for our Pipeline transforming the columns Fare, Age, Embarked, Cabin and Name. In short for the Fare and Age column we use binning to introduce non-linearity. The Embarked, Cabin and Name columns get mapped to numbers. Each class consists of a init, fit and transform method. While we can ignore the init method, the fit method extracts and saves information of the Train Set. This information is then used to transform the Train Set and Validation Set inside the transform method. "
   ]
  },
  {
   "cell_type": "markdown",
   "metadata": {
    "papermill": {
     "duration": 0.044247,
     "end_time": "2021-05-01T12:38:02.209862",
     "exception": false,
     "start_time": "2021-05-01T12:38:02.165615",
     "status": "completed"
    },
    "tags": []
   },
   "source": [
    "#### Fare Feature\n",
    "First, we look at the Fare Feature. We part the feature beforehand into equal size buckets and use this information to encode the feature to introduce non-linearity. You should notice something here! The way I did it is a case of Data Leakage. We calculate the bucket boundaries on the whole Train Data and not just on the Train Set after the split. The right way to do it would be inside the fit method inside the FareFeatureTransfomer class below, but I didn't find a way to extract and save the boundary information (yet)."
   ]
  },
  {
   "cell_type": "code",
   "execution_count": 16,
   "metadata": {
    "execution": {
     "iopub.execute_input": "2021-05-01T12:38:02.313608Z",
     "iopub.status.busy": "2021-05-01T12:38:02.304817Z",
     "iopub.status.idle": "2021-05-01T12:38:02.324542Z",
     "shell.execute_reply": "2021-05-01T12:38:02.325183Z"
    },
    "papermill": {
     "duration": 0.071061,
     "end_time": "2021-05-01T12:38:02.325360",
     "exception": false,
     "start_time": "2021-05-01T12:38:02.254299",
     "status": "completed"
    },
    "tags": []
   },
   "outputs": [
    {
     "data": {
      "text/plain": [
       "[(-0.001, 7.91], (31.0, 512.329], (7.91, 14.454], (14.454, 31.0]]\n",
       "Categories (4, interval[float64]): [(-0.001, 7.91] < (7.91, 14.454] < (14.454, 31.0] < (31.0, 512.329]]"
      ]
     },
     "execution_count": 16,
     "metadata": {},
     "output_type": "execute_result"
    }
   ],
   "source": [
    "# Binning\n",
    "pd.qcut(train_data['Fare'], 4).unique()"
   ]
  },
  {
   "cell_type": "code",
   "execution_count": 17,
   "metadata": {
    "execution": {
     "iopub.execute_input": "2021-05-01T12:38:02.429169Z",
     "iopub.status.busy": "2021-05-01T12:38:02.428371Z",
     "iopub.status.idle": "2021-05-01T12:38:02.431792Z",
     "shell.execute_reply": "2021-05-01T12:38:02.432330Z"
    },
    "papermill": {
     "duration": 0.061575,
     "end_time": "2021-05-01T12:38:02.432508",
     "exception": false,
     "start_time": "2021-05-01T12:38:02.370933",
     "status": "completed"
    },
    "tags": []
   },
   "outputs": [],
   "source": [
    "# Transform Fare Feature\n",
    "class FareFeatureTransformer(BaseEstimator, TransformerMixin):\n",
    "    \n",
    "    def __init__(self):\n",
    "        None\n",
    "        \n",
    "    def fit(self, x, y=None):\n",
    "        return self\n",
    "    \n",
    "    def transform(self, x):\n",
    "        \n",
    "        # Transform to DataFrame\n",
    "        if isinstance(x, np.ndarray):\n",
    "            x = pd.DataFrame(x, columns=['Fare'])\n",
    "        \n",
    "        # Map to Bucket Boundaries\n",
    "        x.loc[ x['Fare'] <= 7.91, 'Fare'] = 0\n",
    "        x.loc[(x['Fare'] > 7.91) & (x['Fare'] <= 14.454), 'Fare'] = 1\n",
    "        x.loc[(x['Fare'] > 14.454) & (x['Fare'] <= 31), 'Fare']   = 2\n",
    "        x.loc[ x['Fare'] > 31, 'Fare'] = 3    \n",
    "        \n",
    "        return x"
   ]
  },
  {
   "cell_type": "markdown",
   "metadata": {
    "papermill": {
     "duration": 0.045871,
     "end_time": "2021-05-01T12:38:02.523995",
     "exception": false,
     "start_time": "2021-05-01T12:38:02.478124",
     "status": "completed"
    },
    "tags": []
   },
   "source": [
    "#### Age Feature\n",
    "This is the same as above. The only difference is that the buckets are of equal width and not of equal size."
   ]
  },
  {
   "cell_type": "code",
   "execution_count": 18,
   "metadata": {
    "execution": {
     "iopub.execute_input": "2021-05-01T12:38:02.623669Z",
     "iopub.status.busy": "2021-05-01T12:38:02.621645Z",
     "iopub.status.idle": "2021-05-01T12:38:02.634146Z",
     "shell.execute_reply": "2021-05-01T12:38:02.633385Z"
    },
    "papermill": {
     "duration": 0.064341,
     "end_time": "2021-05-01T12:38:02.634293",
     "exception": false,
     "start_time": "2021-05-01T12:38:02.569952",
     "status": "completed"
    },
    "tags": []
   },
   "outputs": [
    {
     "data": {
      "text/plain": [
       "[(16.336, 32.252], (32.252, 48.168], NaN, (48.168, 64.084], (0.34, 16.336], (64.084, 80.0]]\n",
       "Categories (5, interval[float64]): [(0.34, 16.336] < (16.336, 32.252] < (32.252, 48.168] < (48.168, 64.084] < (64.084, 80.0]]"
      ]
     },
     "execution_count": 18,
     "metadata": {},
     "output_type": "execute_result"
    }
   ],
   "source": [
    "# Binning\n",
    "pd.cut(train_data['Age'], 5).unique()"
   ]
  },
  {
   "cell_type": "code",
   "execution_count": 19,
   "metadata": {
    "execution": {
     "iopub.execute_input": "2021-05-01T12:38:02.742054Z",
     "iopub.status.busy": "2021-05-01T12:38:02.738628Z",
     "iopub.status.idle": "2021-05-01T12:38:02.746995Z",
     "shell.execute_reply": "2021-05-01T12:38:02.746294Z"
    },
    "papermill": {
     "duration": 0.06357,
     "end_time": "2021-05-01T12:38:02.747114",
     "exception": false,
     "start_time": "2021-05-01T12:38:02.683544",
     "status": "completed"
    },
    "tags": []
   },
   "outputs": [],
   "source": [
    "# Transform Age Feature\n",
    "class AgeFeatureTransformer(BaseEstimator, TransformerMixin):\n",
    "    \n",
    "    def __init__(self):\n",
    "        None\n",
    "    \n",
    "    def fit(self, x, y=None):\n",
    "        return self\n",
    "    \n",
    "    def transform(self, x):\n",
    "        \n",
    "        # Transform to DataFrame\n",
    "        if isinstance(x, np.ndarray):\n",
    "            x = pd.DataFrame(x, columns=['Age'])\n",
    "        \n",
    "        # Map to Bucket Boundaries\n",
    "        x.loc[ x['Age'] <= 16, 'Age'] = 0\n",
    "        x.loc[(x['Age'] > 16) & (x['Age'] <= 32), 'Age'] = 1\n",
    "        x.loc[(x['Age'] > 32) & (x['Age'] <= 48), 'Age'] = 2\n",
    "        x.loc[(x['Age'] > 48) & (x['Age'] <= 64), 'Age'] = 3\n",
    "        x.loc[ x['Age'] > 64, 'Age'] = 4  \n",
    "        \n",
    "        return x"
   ]
  },
  {
   "cell_type": "markdown",
   "metadata": {
    "papermill": {
     "duration": 0.045682,
     "end_time": "2021-05-01T12:38:02.839033",
     "exception": false,
     "start_time": "2021-05-01T12:38:02.793351",
     "status": "completed"
    },
    "tags": []
   },
   "source": [
    "#### Embarked Feature\n",
    "This class performs a simple mapping operation for each of the possible values of the Embarked Feature. We encode the missing values as well to be able to use the KNN imputation later on."
   ]
  },
  {
   "cell_type": "code",
   "execution_count": 20,
   "metadata": {
    "execution": {
     "iopub.execute_input": "2021-05-01T12:38:02.942905Z",
     "iopub.status.busy": "2021-05-01T12:38:02.941755Z",
     "iopub.status.idle": "2021-05-01T12:38:02.946168Z",
     "shell.execute_reply": "2021-05-01T12:38:02.946714Z"
    },
    "papermill": {
     "duration": 0.06223,
     "end_time": "2021-05-01T12:38:02.946876",
     "exception": false,
     "start_time": "2021-05-01T12:38:02.884646",
     "status": "completed"
    },
    "tags": []
   },
   "outputs": [],
   "source": [
    "# Transform Embarked Feature\n",
    "class EmbarkedFeatureTransformer(BaseEstimator, TransformerMixin):\n",
    "    \n",
    "    def __init__(self):\n",
    "        None\n",
    "    \n",
    "    def fit(self, x, y=None):\n",
    "        return self\n",
    "    \n",
    "    def transform(self, x):\n",
    "        \n",
    "        # Transform to DataFrame\n",
    "        if isinstance(x, np.ndarray):\n",
    "            x = pd.DataFrame(x, columns=['Embarked'])\n",
    "        \n",
    "        # Map to numbers\n",
    "        x['Embarked'] = x['Embarked'].replace(np.nan, 'NaN', regex=True)\n",
    "        x['Embarked'] = x['Embarked'].map( {'S': 0, 'Q': 1, 'C': 2, 'NaN': 3} ).astype(int)\n",
    "        \n",
    "        return x"
   ]
  },
  {
   "cell_type": "markdown",
   "metadata": {
    "papermill": {
     "duration": 0.04549,
     "end_time": "2021-05-01T12:38:03.038287",
     "exception": false,
     "start_time": "2021-05-01T12:38:02.992797",
     "status": "completed"
    },
    "tags": []
   },
   "source": [
    "#### Cabin Feature\n",
    "Inside the fit method, we extract the dummies of the Train Set. We then use these dummies to transform both the Train Set and Validation set."
   ]
  },
  {
   "cell_type": "code",
   "execution_count": 21,
   "metadata": {
    "execution": {
     "iopub.execute_input": "2021-05-01T12:38:03.143821Z",
     "iopub.status.busy": "2021-05-01T12:38:03.139017Z",
     "iopub.status.idle": "2021-05-01T12:38:03.147780Z",
     "shell.execute_reply": "2021-05-01T12:38:03.148344Z"
    },
    "papermill": {
     "duration": 0.064497,
     "end_time": "2021-05-01T12:38:03.148495",
     "exception": false,
     "start_time": "2021-05-01T12:38:03.083998",
     "status": "completed"
    },
    "tags": []
   },
   "outputs": [],
   "source": [
    "# Transform Cabin Feature\n",
    "class CabinFeatureTransformer(BaseEstimator, TransformerMixin):\n",
    "    \n",
    "    def __init__(self):\n",
    "        None\n",
    "    \n",
    "    def fit(self, x, y=None):\n",
    "        \n",
    "        # Impute missing values\n",
    "        x.Cabin.fillna('U', inplace=True)\n",
    "        x['Cabin'] = x['Cabin'].map(lambda c: c[0])\n",
    "        \n",
    "        # Get dummies\n",
    "        cabin_dummies = pd.get_dummies(x['Cabin'], prefix='Cabin')\n",
    "        self.cabin_columns = cabin_dummies.columns\n",
    "        \n",
    "        return self\n",
    "    \n",
    "    def transform(self, x):\n",
    "        \n",
    "        # Impute missing values\n",
    "        x.Cabin.fillna('U', inplace=True)\n",
    "        x['Cabin'] = x['Cabin'].map(lambda c: c[0])\n",
    "        \n",
    "        # Get dummies and reindex them with fitted ones\n",
    "        cabin_dummies = pd.get_dummies(x['Cabin'], prefix='Cabin')\n",
    "        cabin_dummies = cabin_dummies.reindex(columns = self.cabin_columns, fill_value=0)\n",
    "        \n",
    "        # Concat new columns\n",
    "        x = pd.concat([x, cabin_dummies], axis=1) \n",
    "        \n",
    "        # Drop original column\n",
    "        x.drop('Cabin', axis=1, inplace=True)\n",
    "             \n",
    "        return x"
   ]
  },
  {
   "cell_type": "markdown",
   "metadata": {
    "papermill": {
     "duration": 0.045804,
     "end_time": "2021-05-01T12:38:03.240972",
     "exception": false,
     "start_time": "2021-05-01T12:38:03.195168",
     "status": "completed"
    },
    "tags": []
   },
   "source": [
    "#### Name Feature\n",
    "Here we do the same thing as above. The only difference is that we only create a dummy for a value if that value has a count higher or equal to ten."
   ]
  },
  {
   "cell_type": "code",
   "execution_count": 22,
   "metadata": {
    "execution": {
     "iopub.execute_input": "2021-05-01T12:38:03.351659Z",
     "iopub.status.busy": "2021-05-01T12:38:03.342376Z",
     "iopub.status.idle": "2021-05-01T12:38:03.355244Z",
     "shell.execute_reply": "2021-05-01T12:38:03.354449Z"
    },
    "papermill": {
     "duration": 0.068183,
     "end_time": "2021-05-01T12:38:03.355420",
     "exception": false,
     "start_time": "2021-05-01T12:38:03.287237",
     "status": "completed"
    },
    "tags": []
   },
   "outputs": [],
   "source": [
    "# Transform Name Feature\n",
    "class NameFeatureTransformer(BaseEstimator, TransformerMixin):\n",
    "    \n",
    "    def __init__(self):\n",
    "        None\n",
    "    \n",
    "    def fit(self, x, y=None):\n",
    "        \n",
    "        # Get Titles\n",
    "        x['Title'] = x['Name'].str.split(\", \", expand=True)[1].str.split(\".\", expand=True)[0]\n",
    "        \n",
    "        # Map to Misc if value count < 10\n",
    "        stat_min = 10\n",
    "        title_names = (x['Title'].value_counts() < stat_min)\n",
    "        x['Title'] = x['Title'].apply(lambda x: 'Misc' if title_names.loc[x] == True else x)\n",
    "        \n",
    "        # Get dummies\n",
    "        name_dummies = pd.get_dummies(x['Title'], prefix='Title')\n",
    "        self.name_columns = name_dummies.columns\n",
    "\n",
    "        return self\n",
    "    \n",
    "    def transform(self, x):\n",
    "        \n",
    "        # Get Titles\n",
    "        x['Title'] = x['Name'].str.split(\", \", expand=True)[1].str.split(\".\", expand=True)[0]\n",
    "        \n",
    "        # Map to Misc if value count < 2\n",
    "        stat_min = 2\n",
    "        title_names = (x['Title'].value_counts() < stat_min)\n",
    "        x['Title'] = x['Title'].apply(lambda x: 'Misc' if title_names.loc[x] == True else x)\n",
    "        \n",
    "        # Get dummies and reindex them with fitted ones\n",
    "        name_dummies = pd.get_dummies(x['Title'], prefix='Title')\n",
    "        name_dummies = name_dummies.reindex(columns = self.name_columns, fill_value=0)\n",
    "        \n",
    "        # Concat new columns\n",
    "        x = pd.concat([x, name_dummies], axis=1)\n",
    "        \n",
    "        # Drop original columns\n",
    "        x.drop('Title', axis=1, inplace=True)\n",
    "        x.drop('Name', axis=1, inplace=True)\n",
    "\n",
    "        return x"
   ]
  },
  {
   "cell_type": "markdown",
   "metadata": {
    "papermill": {
     "duration": 0.050851,
     "end_time": "2021-05-01T12:38:03.455048",
     "exception": false,
     "start_time": "2021-05-01T12:38:03.404197",
     "status": "completed"
    },
    "tags": []
   },
   "source": [
    "### Column Transformer \n",
    "We can use a transformer to bundle all preprocessing steps. We define how each column gets preprocessed and add additional steps outside our classes."
   ]
  },
  {
   "cell_type": "code",
   "execution_count": 23,
   "metadata": {
    "execution": {
     "iopub.execute_input": "2021-05-01T12:38:03.563988Z",
     "iopub.status.busy": "2021-05-01T12:38:03.563153Z",
     "iopub.status.idle": "2021-05-01T12:38:03.567013Z",
     "shell.execute_reply": "2021-05-01T12:38:03.566448Z"
    },
    "papermill": {
     "duration": 0.065296,
     "end_time": "2021-05-01T12:38:03.567148",
     "exception": false,
     "start_time": "2021-05-01T12:38:03.501852",
     "status": "completed"
    },
    "tags": []
   },
   "outputs": [],
   "source": [
    "# Age Feature\n",
    "age = ['Age']\n",
    "age_transformer = Pipeline(steps=[\n",
    "    ('imputer', KNNImputer(n_neighbors = 100)), # Impute missing values with KNN\n",
    "    ('binning', AgeFeatureTransformer()) # Use the Age Feature Transformer class\n",
    "])\n",
    "\n",
    "# Fare Feature\n",
    "fare = ['Fare']\n",
    "fare_transformer = Pipeline(steps=[\n",
    "    ('imputer', KNNImputer(n_neighbors = 100)), # Impute missing values with KNN\n",
    "    ('binning', FareFeatureTransformer()) # Use the Fare Feature Transformer class\n",
    "])\n",
    "\n",
    "# Discrete Features\n",
    "discrete = ['Pclass', 'Sex', 'Parch', 'SibSp', 'FamilySize', 'IsAlone']\n",
    "discrete_transformer = Pipeline(steps=[\n",
    "    ('imputer', KNNImputer(n_neighbors = 100)) # Impute missing values with KNN\n",
    "])\n",
    "\n",
    "# Embarked Feature\n",
    "embarked = ['Embarked']\n",
    "embarked_transformer = Pipeline(steps=[\n",
    "    ('map', EmbarkedFeatureTransformer()), # Use the Embarked Feature Transformer class\n",
    "    ('imputer', KNNImputer(n_neighbors = 100, missing_values = 3)) # Impute missing values with KNN\n",
    "])\n",
    "\n",
    "# Cabin Feature\n",
    "cabin = ['Cabin']\n",
    "\n",
    "# Name Feature\n",
    "name = ['Name']\n",
    "\n",
    "# Transformer\n",
    "transformer = ColumnTransformer(\n",
    "    transformers = [\n",
    "        ('name_data', NameFeatureTransformer(), name), # Name Feature\n",
    "        ('embarked_data', embarked_transformer, embarked), # Embarked Feature\n",
    "        ('age_data', age_transformer, age), # Age Feature\n",
    "        ('fare_data', fare_transformer, fare), # Fare Feature\n",
    "        ('cabin_data', CabinFeatureTransformer(), cabin), # Cabin Feature\n",
    "        ('discrete_data', discrete_transformer, discrete) # Discrete Features\n",
    "    ]\n",
    ")"
   ]
  },
  {
   "cell_type": "markdown",
   "metadata": {
    "papermill": {
     "duration": 0.047206,
     "end_time": "2021-05-01T12:38:03.661191",
     "exception": false,
     "start_time": "2021-05-01T12:38:03.613985",
     "status": "completed"
    },
    "tags": []
   },
   "source": [
    "### Final Pipeline\n",
    "Finally, we can assemble the pipeline defining the transformer and the used model."
   ]
  },
  {
   "cell_type": "code",
   "execution_count": 24,
   "metadata": {
    "execution": {
     "iopub.execute_input": "2021-05-01T12:38:03.765155Z",
     "iopub.status.busy": "2021-05-01T12:38:03.764143Z",
     "iopub.status.idle": "2021-05-01T12:38:03.768043Z",
     "shell.execute_reply": "2021-05-01T12:38:03.767391Z"
    },
    "papermill": {
     "duration": 0.058275,
     "end_time": "2021-05-01T12:38:03.768171",
     "exception": false,
     "start_time": "2021-05-01T12:38:03.709896",
     "status": "completed"
    },
    "tags": []
   },
   "outputs": [],
   "source": [
    "# Random Forest Pipeline\n",
    "forest_pipe = Pipeline(steps=[\n",
    "    ('transformer', transformer), # Transfomer\n",
    "    ('rf', RandomForestClassifier(random_state=0)) # Random Forest\n",
    "])\n",
    "\n",
    "# Gradient Boosting Classifier\n",
    "boost_pipe = Pipeline(steps=[\n",
    "    ('transformer', transformer), # Transfomer\n",
    "    ('gb', GradientBoostingClassifier(random_state=0)) # Gradient Boosting\n",
    "])"
   ]
  },
  {
   "cell_type": "markdown",
   "metadata": {
    "papermill": {
     "duration": 0.046449,
     "end_time": "2021-05-01T12:38:03.860885",
     "exception": false,
     "start_time": "2021-05-01T12:38:03.814436",
     "status": "completed"
    },
    "tags": []
   },
   "source": [
    "# Training & Evaluation\n",
    "## Split\n",
    "Now it is time to perform the split on the Train Data into the Train Set and Test Set. Remember that the Validation Set gets created automatically when using Cross-Fold-Validation later."
   ]
  },
  {
   "cell_type": "code",
   "execution_count": 25,
   "metadata": {
    "execution": {
     "iopub.execute_input": "2021-05-01T12:38:03.968882Z",
     "iopub.status.busy": "2021-05-01T12:38:03.966305Z",
     "iopub.status.idle": "2021-05-01T12:38:03.971912Z",
     "shell.execute_reply": "2021-05-01T12:38:03.971253Z"
    },
    "papermill": {
     "duration": 0.064613,
     "end_time": "2021-05-01T12:38:03.972021",
     "exception": false,
     "start_time": "2021-05-01T12:38:03.907408",
     "status": "completed"
    },
    "tags": []
   },
   "outputs": [],
   "source": [
    "# Used Features\n",
    "features = [\"Pclass\", \"Sex\", \"Age\", \"Fare\", \"Embarked\", \"Name\", \"Parch\", \"SibSp\", \"Cabin\", \"FamilySize\", \"IsAlone\"]\n",
    "\n",
    "# Score Set\n",
    "X_score = score_set[features]\n",
    "\n",
    "# Train Data\n",
    "X = train_data[features]\n",
    "y = train_data['Survived']\n",
    "\n",
    "# Split of Train Data into Train Set and Test Set\n",
    "X_train, X_test, y_train, y_test = train_test_split(X, y, test_size=0.2, random_state=1)"
   ]
  },
  {
   "cell_type": "markdown",
   "metadata": {
    "papermill": {
     "duration": 0.046426,
     "end_time": "2021-05-01T12:38:04.064549",
     "exception": false,
     "start_time": "2021-05-01T12:38:04.018123",
     "status": "completed"
    },
    "tags": []
   },
   "source": [
    "## Simple Training\n",
    "Then we can perform a 'simple' training. Meaning running the pipeline only once without tuning any hyperparameters."
   ]
  },
  {
   "cell_type": "code",
   "execution_count": 26,
   "metadata": {
    "execution": {
     "iopub.execute_input": "2021-05-01T12:38:04.182566Z",
     "iopub.status.busy": "2021-05-01T12:38:04.181699Z",
     "iopub.status.idle": "2021-05-01T12:38:04.574959Z",
     "shell.execute_reply": "2021-05-01T12:38:04.574276Z"
    },
    "papermill": {
     "duration": 0.46378,
     "end_time": "2021-05-01T12:38:04.575069",
     "exception": false,
     "start_time": "2021-05-01T12:38:04.111289",
     "status": "completed"
    },
    "tags": []
   },
   "outputs": [
    {
     "name": "stdout",
     "output_type": "stream",
     "text": [
      "0.7877094972067039\n"
     ]
    }
   ],
   "source": [
    "forest_pipe.fit(X_train,y_train) # Fit to Train Set\n",
    "y_pred = forest_pipe.predict(X_test) # Predict on Test Set\n",
    "print(accuracy_score(y_test, y_pred)) # Get Accuracy"
   ]
  },
  {
   "cell_type": "code",
   "execution_count": 27,
   "metadata": {
    "execution": {
     "iopub.execute_input": "2021-05-01T12:38:04.691409Z",
     "iopub.status.busy": "2021-05-01T12:38:04.680719Z",
     "iopub.status.idle": "2021-05-01T12:38:04.936723Z",
     "shell.execute_reply": "2021-05-01T12:38:04.937382Z"
    },
    "papermill": {
     "duration": 0.315818,
     "end_time": "2021-05-01T12:38:04.937562",
     "exception": false,
     "start_time": "2021-05-01T12:38:04.621744",
     "status": "completed"
    },
    "tags": []
   },
   "outputs": [
    {
     "name": "stdout",
     "output_type": "stream",
     "text": [
      "0.7821229050279329\n"
     ]
    }
   ],
   "source": [
    "boost_pipe.fit(X_train,y_train) # Fit to Train Set\n",
    "y_pred = boost_pipe.predict(X_test) # Predict on Test Set\n",
    "print(accuracy_score(y_test, y_pred)) # Get Accuracy"
   ]
  },
  {
   "cell_type": "markdown",
   "metadata": {
    "papermill": {
     "duration": 0.047468,
     "end_time": "2021-05-01T12:38:05.033913",
     "exception": false,
     "start_time": "2021-05-01T12:38:04.986445",
     "status": "completed"
    },
    "tags": []
   },
   "source": [
    "Many other notebooks train on the Train Data and evaluate the accuracy of it as well. Like I did here:"
   ]
  },
  {
   "cell_type": "code",
   "execution_count": 28,
   "metadata": {
    "execution": {
     "iopub.execute_input": "2021-05-01T12:38:05.134519Z",
     "iopub.status.busy": "2021-05-01T12:38:05.133731Z",
     "iopub.status.idle": "2021-05-01T12:38:05.543193Z",
     "shell.execute_reply": "2021-05-01T12:38:05.543921Z"
    },
    "papermill": {
     "duration": 0.462591,
     "end_time": "2021-05-01T12:38:05.544118",
     "exception": false,
     "start_time": "2021-05-01T12:38:05.081527",
     "status": "completed"
    },
    "tags": []
   },
   "outputs": [
    {
     "name": "stdout",
     "output_type": "stream",
     "text": [
      "0.9185393258426966\n"
     ]
    }
   ],
   "source": [
    "forest_pipe.fit(X_train,y_train) # Fit to Train Set\n",
    "y_pred = forest_pipe.predict(X_train) # Predict on Train Set\n",
    "print(accuracy_score(y_train, y_pred)) # Get Accuracy"
   ]
  },
  {
   "cell_type": "markdown",
   "metadata": {
    "papermill": {
     "duration": 0.048891,
     "end_time": "2021-05-01T12:38:05.645088",
     "exception": false,
     "start_time": "2021-05-01T12:38:05.596197",
     "status": "completed"
    },
    "tags": []
   },
   "source": [
    "You see how much better my score is and how simple it is to 'achieve' a nice score? However, **Data Science and predictive modelling are not about getting a good score on seen data!** It is about getting a good score on unseen data. Imagine working on for a company to predict churn rates and claiming the model can predict churners with an accuracy of around 91% while in reality, the model can only predict churners with an accuracy of 78%. Remember the graph from above. The 91% reflect the red training line, the 78% reflect the blue scoring line. While it is nice to present a high number, in the end when scoring the new unseen data you will achieve the 78%. There is no meaning, need or sense in evaluating your model on the data you trained it on. This could mean a loss in business value and is just not good work. \n",
    "\n",
    "This is the same for data science competitions. You can predict with a 91% accuracy on your training data, but when you predict on your Scoring Set and turn it in you get the 78%.\n",
    "\n",
    "Always remember to increase the score on the Test Set, the truly unseen data and not on the data you trained on. One of your main goals is to get a number from the evaluation that reflects the score on new unseen data as close as possible."
   ]
  },
  {
   "cell_type": "markdown",
   "metadata": {
    "papermill": {
     "duration": 0.048515,
     "end_time": "2021-05-01T12:38:05.742690",
     "exception": false,
     "start_time": "2021-05-01T12:38:05.694175",
     "status": "completed"
    },
    "tags": []
   },
   "source": [
    "## Hyperparametertuning (Cross-Fold-Validation)\n",
    "Now we can tune some of the hyperparameters of each model performing Cross-Fold-Validation. It runs n-folds for each possible configuration of the defined hyperparameters processing the Pipeline every single time."
   ]
  },
  {
   "cell_type": "code",
   "execution_count": 29,
   "metadata": {
    "execution": {
     "iopub.execute_input": "2021-05-01T12:38:05.851269Z",
     "iopub.status.busy": "2021-05-01T12:38:05.850595Z",
     "iopub.status.idle": "2021-05-01T12:45:13.127711Z",
     "shell.execute_reply": "2021-05-01T12:45:13.126614Z"
    },
    "papermill": {
     "duration": 427.337118,
     "end_time": "2021-05-01T12:45:13.127948",
     "exception": false,
     "start_time": "2021-05-01T12:38:05.790830",
     "status": "completed"
    },
    "tags": []
   },
   "outputs": [
    {
     "name": "stdout",
     "output_type": "stream",
     "text": [
      "Fitting 5 folds for each of 324 candidates, totalling 1620 fits\n"
     ]
    },
    {
     "name": "stderr",
     "output_type": "stream",
     "text": [
      "[Parallel(n_jobs=-1)]: Using backend LokyBackend with 4 concurrent workers.\n",
      "[Parallel(n_jobs=-1)]: Done  10 tasks      | elapsed:    3.9s\n",
      "[Parallel(n_jobs=-1)]: Done  33 tasks      | elapsed:    8.1s\n",
      "[Parallel(n_jobs=-1)]: Done  64 tasks      | elapsed:   13.5s\n",
      "[Parallel(n_jobs=-1)]: Done 105 tasks      | elapsed:   21.2s\n",
      "[Parallel(n_jobs=-1)]: Done 154 tasks      | elapsed:   29.6s\n",
      "[Parallel(n_jobs=-1)]: Done 213 tasks      | elapsed:   45.5s\n",
      "[Parallel(n_jobs=-1)]: Done 280 tasks      | elapsed:  1.2min\n",
      "[Parallel(n_jobs=-1)]: Done 357 tasks      | elapsed:  1.6min\n",
      "[Parallel(n_jobs=-1)]: Done 442 tasks      | elapsed:  2.0min\n",
      "[Parallel(n_jobs=-1)]: Done 537 tasks      | elapsed:  2.3min\n",
      "[Parallel(n_jobs=-1)]: Done 640 tasks      | elapsed:  2.8min\n",
      "[Parallel(n_jobs=-1)]: Done 753 tasks      | elapsed:  3.3min\n",
      "[Parallel(n_jobs=-1)]: Done 874 tasks      | elapsed:  4.0min\n",
      "[Parallel(n_jobs=-1)]: Done 1005 tasks      | elapsed:  4.4min\n",
      "[Parallel(n_jobs=-1)]: Done 1144 tasks      | elapsed:  5.0min\n",
      "[Parallel(n_jobs=-1)]: Done 1293 tasks      | elapsed:  5.7min\n",
      "[Parallel(n_jobs=-1)]: Done 1450 tasks      | elapsed:  6.2min\n",
      "[Parallel(n_jobs=-1)]: Done 1620 out of 1620 | elapsed:  7.1min finished\n"
     ]
    },
    {
     "name": "stdout",
     "output_type": "stream",
     "text": [
      "{'rf__bootstrap': False, 'rf__criterion': 'gini', 'rf__max_depth': 10, 'rf__min_samples_leaf': 5, 'rf__min_samples_split': 2, 'rf__n_estimators': 500}\n",
      "0.7988826815642458\n"
     ]
    }
   ],
   "source": [
    "# Define the parameters and values\n",
    "param_grid = {\n",
    "    'rf__bootstrap': [True, False],\n",
    "    'rf__max_depth': [0,5,10],\n",
    "    'rf__criterion': ['gini','entropy'],\n",
    "    'rf__min_samples_leaf': [0,2,5],\n",
    "    'rf__min_samples_split': [0,2,5],\n",
    "    'rf__n_estimators': [100,500,1000]\n",
    "}\n",
    "\n",
    "# Define the grid search model\n",
    "forest_model = GridSearchCV(estimator = forest_pipe, param_grid = param_grid, scoring='accuracy', cv = 5, n_jobs = -1, verbose = 8)\n",
    "\n",
    "# Fit to Train Set\n",
    "forest_model.fit(X_train, y_train)\n",
    "\n",
    "# Get best values for params\n",
    "print(forest_model.best_params_)\n",
    "\n",
    "# Predict on Test Set\n",
    "y_pred = forest_model.predict(X_test)\n",
    "\n",
    "# Get Accuracy\n",
    "print(accuracy_score(y_test, y_pred))"
   ]
  },
  {
   "cell_type": "code",
   "execution_count": 30,
   "metadata": {
    "execution": {
     "iopub.execute_input": "2021-05-01T12:45:13.254952Z",
     "iopub.status.busy": "2021-05-01T12:45:13.251649Z",
     "iopub.status.idle": "2021-05-01T12:53:02.461354Z",
     "shell.execute_reply": "2021-05-01T12:53:02.460582Z"
    },
    "papermill": {
     "duration": 469.276519,
     "end_time": "2021-05-01T12:53:02.461496",
     "exception": false,
     "start_time": "2021-05-01T12:45:13.184977",
     "status": "completed"
    },
    "tags": []
   },
   "outputs": [
    {
     "name": "stdout",
     "output_type": "stream",
     "text": [
      "Fitting 5 folds for each of 648 candidates, totalling 3240 fits\n"
     ]
    },
    {
     "name": "stderr",
     "output_type": "stream",
     "text": [
      "[Parallel(n_jobs=-1)]: Using backend LokyBackend with 4 concurrent workers.\n",
      "[Parallel(n_jobs=-1)]: Done  12 tasks      | elapsed:    0.7s\n",
      "[Parallel(n_jobs=-1)]: Done  58 tasks      | elapsed:    2.9s\n",
      "[Parallel(n_jobs=-1)]: Done 120 tasks      | elapsed:    5.3s\n",
      "[Parallel(n_jobs=-1)]: Done 202 tasks      | elapsed:    8.6s\n",
      "[Parallel(n_jobs=-1)]: Done 300 tasks      | elapsed:   12.6s\n",
      "[Parallel(n_jobs=-1)]: Done 418 tasks      | elapsed:   23.7s\n",
      "[Parallel(n_jobs=-1)]: Done 488 tasks      | elapsed:   35.4s\n",
      "[Parallel(n_jobs=-1)]: Done 565 tasks      | elapsed:   52.7s\n",
      "[Parallel(n_jobs=-1)]: Done 650 tasks      | elapsed:   56.4s\n",
      "[Parallel(n_jobs=-1)]: Done 745 tasks      | elapsed:  1.5min\n",
      "[Parallel(n_jobs=-1)]: Done 848 tasks      | elapsed:  2.0min\n",
      "[Parallel(n_jobs=-1)]: Done 961 tasks      | elapsed:  2.1min\n",
      "[Parallel(n_jobs=-1)]: Done 1082 tasks      | elapsed:  2.2min\n",
      "[Parallel(n_jobs=-1)]: Done 1213 tasks      | elapsed:  2.3min\n",
      "[Parallel(n_jobs=-1)]: Done 1352 tasks      | elapsed:  2.8min\n",
      "[Parallel(n_jobs=-1)]: Done 1501 tasks      | elapsed:  3.2min\n",
      "[Parallel(n_jobs=-1)]: Done 1658 tasks      | elapsed:  3.9min\n",
      "[Parallel(n_jobs=-1)]: Done 1825 tasks      | elapsed:  4.0min\n",
      "[Parallel(n_jobs=-1)]: Done 2000 tasks      | elapsed:  4.2min\n",
      "[Parallel(n_jobs=-1)]: Done 2185 tasks      | elapsed:  4.8min\n",
      "[Parallel(n_jobs=-1)]: Done 2378 tasks      | elapsed:  5.4min\n",
      "[Parallel(n_jobs=-1)]: Done 2581 tasks      | elapsed:  6.0min\n",
      "[Parallel(n_jobs=-1)]: Done 2792 tasks      | elapsed:  6.1min\n",
      "[Parallel(n_jobs=-1)]: Done 3013 tasks      | elapsed:  6.8min\n",
      "[Parallel(n_jobs=-1)]: Done 3240 out of 3240 | elapsed:  7.8min finished\n"
     ]
    },
    {
     "name": "stdout",
     "output_type": "stream",
     "text": [
      "{'gb__learning_rate': 0.01, 'gb__max_depth': 3, 'gb__min_samples_leaf': 2, 'gb__min_samples_split': 2, 'gb__n_estimators': 500, 'gb__warm_start': True}\n",
      "0.7932960893854749\n"
     ]
    }
   ],
   "source": [
    "# Define the parameters and values\n",
    "param_grid = {\n",
    "    'gb__learning_rate': [0.001, 0.01, 0.1, 1],\n",
    "    'gb__n_estimators': [100,500,1000],\n",
    "    'gb__min_samples_leaf': [0,1,2],\n",
    "    'gb__min_samples_split': [0,2,5],\n",
    "    'gb__max_depth': [0,3,5],\n",
    "    'gb__warm_start': [True, False]\n",
    "}\n",
    "\n",
    "# Define the grid search model\n",
    "boost_model = GridSearchCV(estimator = boost_pipe, param_grid = param_grid, scoring='accuracy', cv = 5, n_jobs = -1, verbose = 8)\n",
    "\n",
    "# Fit to Train Set\n",
    "boost_model.fit(X_train, y_train)\n",
    "\n",
    "# Get best values for params\n",
    "print(boost_model.best_params_)\n",
    "\n",
    "# Predict on Test Set\n",
    "y_pred = boost_model.predict(X_test)\n",
    "\n",
    "# Get Accuracy\n",
    "print(accuracy_score(y_test, y_pred))"
   ]
  },
  {
   "cell_type": "markdown",
   "metadata": {
    "papermill": {
     "duration": 0.065086,
     "end_time": "2021-05-01T12:53:02.592143",
     "exception": false,
     "start_time": "2021-05-01T12:53:02.527057",
     "status": "completed"
    },
    "tags": []
   },
   "source": [
    "# Final Prediction\n",
    "As we can see the Random Forest Model provided the most accurate outputs with an accuracy score of 0.7988 on the Test Set. We take the model and predict on the Score Set and see that our evaluated accuracy score from the Test Set (79.88%) and the accuracy score on the Score Set (77.27%) are very close. This is a good thing. We can communicate clearly how good our model performs with unseen data."
   ]
  },
  {
   "cell_type": "code",
   "execution_count": 31,
   "metadata": {
    "execution": {
     "iopub.execute_input": "2021-05-01T12:53:02.770135Z",
     "iopub.status.busy": "2021-05-01T12:53:02.764459Z",
     "iopub.status.idle": "2021-05-01T12:53:03.369146Z",
     "shell.execute_reply": "2021-05-01T12:53:03.370281Z"
    },
    "papermill": {
     "duration": 0.708446,
     "end_time": "2021-05-01T12:53:03.370572",
     "exception": false,
     "start_time": "2021-05-01T12:53:02.662126",
     "status": "completed"
    },
    "tags": []
   },
   "outputs": [
    {
     "name": "stdout",
     "output_type": "stream",
     "text": [
      "Submission successfully saved\n"
     ]
    }
   ],
   "source": [
    "# Predict on Score Set\n",
    "predictions = forest_model.predict(X_score)\n",
    "\n",
    "# Generate Submission\n",
    "output = pd.DataFrame({'PassengerId':score_set.PassengerId, 'Survived':predictions})\n",
    "output.to_csv('my_submission.csv', index=False)\n",
    "print(\"Submission successfully saved\")"
   ]
  }
 ],
 "metadata": {
  "kernelspec": {
   "display_name": "Python 3",
   "language": "python",
   "name": "python3"
  },
  "language_info": {
   "codemirror_mode": {
    "name": "ipython",
    "version": 3
   },
   "file_extension": ".py",
   "mimetype": "text/x-python",
   "name": "python",
   "nbconvert_exporter": "python",
   "pygments_lexer": "ipython3",
   "version": "3.7.6"
  },
  "papermill": {
   "duration": 922.762946,
   "end_time": "2021-05-01T12:53:03.547629",
   "environment_variables": {},
   "exception": null,
   "input_path": "__notebook__.ipynb",
   "output_path": "__notebook__.ipynb",
   "parameters": {},
   "start_time": "2021-05-01T12:37:40.784683",
   "version": "2.1.0"
  }
 },
 "nbformat": 4,
 "nbformat_minor": 4
}
